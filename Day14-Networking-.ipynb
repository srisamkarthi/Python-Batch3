{
 "cells": [
  {
   "cell_type": "code",
   "execution_count": 1,
   "id": "8dbf2c79-959b-4b3b-b216-fd5d6aab9291",
   "metadata": {},
   "outputs": [
    {
     "name": "stdout",
     "output_type": "stream",
     "text": [
      "142.250.195.100\n"
     ]
    }
   ],
   "source": [
    "import socket\n",
    "ip = socket.gethostbyname('www.google.com')\n",
    "print(ip)"
   ]
  },
  {
   "cell_type": "code",
   "execution_count": 11,
   "id": "e3af42df-e022-408c-b813-f221c2f5aacc",
   "metadata": {},
   "outputs": [
    {
     "name": "stdout",
     "output_type": "stream",
     "text": [
      "Socket successfully created\n"
     ]
    }
   ],
   "source": [
    "import socket # for socket\n",
    "import sys\n",
    "try:\n",
    "    s = socket.socket(socket.AF_INET, socket.SOCK_STREAM)\n",
    "    print (\"Socket successfully created\")\n",
    "except socket.error as err:\n",
    "    print (\"socket creation failed with error %s\" %(err))"
   ]
  },
  {
   "cell_type": "code",
   "execution_count": 12,
   "id": "eca7173c-ec72-4ee9-9c69-a05ad2c67f28",
   "metadata": {},
   "outputs": [
    {
     "name": "stdout",
     "output_type": "stream",
     "text": [
      "the socket has successfully connected to google\n"
     ]
    }
   ],
   "source": [
    "port = 80\n",
    "try:\n",
    "    host_ip = socket.gethostbyname('www.yahoo.com')\n",
    "except socket.gaierror:\n",
    "    # this means could not resolve the host\n",
    "    print (\"there was an error resolving the host\")\n",
    "    sys.exit()\n",
    "# connecting to the server\n",
    "s.connect((host_ip, port))\n",
    "print (\"the socket has successfully connected to google\")"
   ]
  },
  {
   "cell_type": "code",
   "execution_count": 10,
   "id": "a14b6c7e-e058-4568-a45b-8e9d17e691f2",
   "metadata": {},
   "outputs": [
    {
     "ename": "SystemExit",
     "evalue": "",
     "output_type": "error",
     "traceback": [
      "An exception has occurred, use %tb to see the full traceback.\n",
      "\u001b[1;31mSystemExit\u001b[0m\n"
     ]
    },
    {
     "name": "stderr",
     "output_type": "stream",
     "text": [
      "D:\\Software\\Python\\lib\\site-packages\\IPython\\core\\interactiveshell.py:3449: UserWarning: To exit: use 'exit', 'quit', or Ctrl-D.\n",
      "  warn(\"To exit: use 'exit', 'quit', or Ctrl-D.\", stacklevel=1)\n"
     ]
    }
   ],
   "source": []
  },
  {
   "cell_type": "code",
   "execution_count": 14,
   "id": "9c2f6781-832f-4625-b2cd-548dc0f9361a",
   "metadata": {},
   "outputs": [
    {
     "name": "stdout",
     "output_type": "stream",
     "text": [
      "<Response [200]>\n",
      "<!DOCTYPE html>\n",
      "<html lang=\"kn\" id=\"facebook\" class=\"no_js\">\n",
      "<head><meta charset=\"utf-8\" /><meta name=\"referrer\" content=\"default\" id=\"meta_referrer\" /><script nonce=\"Pua496FL\">window._cstart=+new Date();</script><script nonce=\"Pua496FL\">function envFlush(a){function b(b){for(var c in a)b[c]=a[c]}window.requireLazy?window.requireLazy([\"Env\"],b):(window.Env=window.Env||{},b(window.Env))}envFlush({\"ajaxpipe_token\":\"AXhOm7EWZ6hH6dDSJZg\",\"timeslice_heartbeat_config\":{\"pollIntervalMs\":33,\"idleGapThresholdMs\":60,\"ignoredTimesliceNames\":{\"requestAnimationFrame\":true,\"Event listenHandler mousemove\":true,\"Event listenHandler mouseover\":true,\"Event listenHandler mouseout\":true,\"Event listenHandler scroll\":true},\"isHeartbeatEnabled\":true,\"isArtilleryOn\":false},\"shouldLogCounters\":true,\"timeslice_categories\":{\"react_render\":true,\"reflow\":true},\"sample_continuation_stacktraces\":true,\"dom_mutation_flag\":true,\"gk_requirelazy_mem\":true,\"gk_instrument_object_url\":true,\"stack_trace_limit\":30,\"timesliceB\n"
     ]
    }
   ],
   "source": [
    "import requests as req\n",
    "# Requesting from server\n",
    "r = req.get('https://www.facebook.com/',)\n",
    "# Getting the response code\n",
    "print(r)\n",
    "# Printing some lines of the request data\n",
    "print(r.text[0:1000])"
   ]
  },
  {
   "cell_type": "code",
   "execution_count": null,
   "id": "13e2a98e-3113-4c28-a3b9-96b2283d231f",
   "metadata": {},
   "outputs": [
    {
     "name": "stdout",
     "output_type": "stream",
     "text": [
      "Serving HTTP on 127.0.0.1 port 8000 ...\n"
     ]
    },
    {
     "name": "stderr",
     "output_type": "stream",
     "text": [
      "127.0.0.1 - - [26/Dec/2021 10:29:27] \"GET / HTTP/1.1\" 200 -\n",
      "127.0.0.1 - - [26/Dec/2021 10:29:27] code 404, message File not found\n",
      "127.0.0.1 - - [26/Dec/2021 10:29:27] \"GET /favicon.ico HTTP/1.1\" 404 -\n"
     ]
    }
   ],
   "source": [
    "import sys\n",
    "import http.server\n",
    "import socketserver\n",
    "# Creating handle\n",
    "HandlerClass = http.server.SimpleHTTPRequestHandler\n",
    "# Creating Server\n",
    "ServerClass = http.server.HTTPServer\n",
    "# Defining protocol\n",
    "Protocol = \"HTTP/1.0\"\n",
    "# Setting TCP Address\n",
    "#if sys.argv[1:]:\n",
    "#    port = int(sys.argv[1])\n",
    "#else:\n",
    "port = 8000\n",
    "server_address = ('127.0.0.1', port)\n",
    "# invoking server\n",
    "HandlerClass.protocol_version = Protocol\n",
    "http = ServerClass(server_address, HandlerClass)\n",
    "# Getting logs\n",
    "sa = http.socket.getsockname()\n",
    "print(\"Serving HTTP on\", sa[0], \"port\", sa[1], \"...\")\n",
    "http.serve_forever()"
   ]
  },
  {
   "cell_type": "code",
   "execution_count": null,
   "id": "c124f8e9-b551-4e47-b3db-4cca8820b74a",
   "metadata": {},
   "outputs": [],
   "source": []
  }
 ],
 "metadata": {
  "kernelspec": {
   "display_name": "Python 3 (ipykernel)",
   "language": "python",
   "name": "python3"
  },
  "language_info": {
   "codemirror_mode": {
    "name": "ipython",
    "version": 3
   },
   "file_extension": ".py",
   "mimetype": "text/x-python",
   "name": "python",
   "nbconvert_exporter": "python",
   "pygments_lexer": "ipython3",
   "version": "3.9.7"
  }
 },
 "nbformat": 4,
 "nbformat_minor": 5
}
