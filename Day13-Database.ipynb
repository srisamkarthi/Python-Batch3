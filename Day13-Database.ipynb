{
 "cells": [
  {
   "cell_type": "code",
   "execution_count": 61,
   "id": "46f757a6-c672-4183-9000-fc5255065089",
   "metadata": {},
   "outputs": [
    {
     "name": "stdout",
     "output_type": "stream",
     "text": [
      "Connection Successful to PostgreSQL\n"
     ]
    }
   ],
   "source": [
    "import psycopg2\n",
    "conn = psycopg2.connect(database =\"netzwerkacademy\", user = \"netzwerk\",\n",
    "                        password = \"netzwerk\", host = \"127.0.0.1\", \n",
    "                        port = \"5432\")\n",
    "  \n",
    "print(\"Connection Successful to PostgreSQL\")"
   ]
  },
  {
   "cell_type": "code",
   "execution_count": 62,
   "id": "11144605-ff32-40b1-a127-165929027f67",
   "metadata": {},
   "outputs": [],
   "source": [
    "cursorObject = conn.cursor()"
   ]
  },
  {
   "cell_type": "code",
   "execution_count": 50,
   "id": "b6d2039d-3055-4faa-b086-6d3e6d990b8b",
   "metadata": {},
   "outputs": [],
   "source": [
    "studentRecord = \"CREATE TABLE STUDENT (NAME  VARCHAR(20) NOT NULL,  BRANCH VARCHAR(50), ROLL INT NOT NULL,SECTION VARCHAR(5), AGE INT)\"\n",
    "cursorObject.execute(studentRecord)\n",
    "conn.commit()"
   ]
  },
  {
   "cell_type": "code",
   "execution_count": 54,
   "id": "ab6491e2-e3d7-4b3a-b241-3ac07e450c19",
   "metadata": {},
   "outputs": [
    {
     "name": "stdout",
     "output_type": "stream",
     "text": [
      "1 details inserted\n"
     ]
    }
   ],
   "source": [
    "sql = \"INSERT INTO student(name, roll) VALUES ('karthikeya', 23)\"\n",
    "cursorObject.execute(sql)\n",
    "conn.commit()\n",
    "print(cursorObject.rowcount, \"details inserted\")\n",
    "#disconnecting from server\n",
    "#conn.close()\n"
   ]
  },
  {
   "cell_type": "code",
   "execution_count": 55,
   "id": "50031cc6-ccb0-4488-b6fe-2a4a3d2ff82e",
   "metadata": {},
   "outputs": [
    {
     "name": "stdout",
     "output_type": "stream",
     "text": [
      "1 details updated\n"
     ]
    }
   ],
   "source": [
    "sql = \"Update student set branch='python', age=30, section='abc' where roll=23\"\n",
    "cursorObject.execute(sql)\n",
    "conn.commit()\n",
    "print(cursorObject.rowcount, \"details updated\")"
   ]
  },
  {
   "cell_type": "code",
   "execution_count": 56,
   "id": "fba822c0-adab-493d-ac10-3e7f510d425a",
   "metadata": {},
   "outputs": [
    {
     "name": "stdout",
     "output_type": "stream",
     "text": [
      "1 details inserted\n"
     ]
    }
   ],
   "source": [
    "sql = \"INSERT INTO student(name, roll, age, branch, section) VALUES ('Gayatri',24, 24 ,'FSD','B2')\"\n",
    "cursorObject.execute(sql)\n",
    "conn.commit()\n",
    "print(cursorObject.rowcount,\"details inserted\")"
   ]
  },
  {
   "cell_type": "code",
   "execution_count": 57,
   "id": "03eb8090-c9ca-4944-a7f7-90f217c3cef3",
   "metadata": {},
   "outputs": [
    {
     "name": "stdout",
     "output_type": "stream",
     "text": [
      "1 details inserted\n"
     ]
    }
   ],
   "source": [
    "sql = \"INSERT INTO student(name, roll, age, branch, section) VALUES ('Avinash', 01, 21, 'Patil', 'B1')\"\n",
    "cursorObject.execute(sql)\n",
    "conn.commit()\n",
    "print(cursorObject.rowcount,\"details inserted\")"
   ]
  },
  {
   "cell_type": "code",
   "execution_count": 58,
   "id": "f0cf9377-0b94-46b3-bb33-c0f5f9477978",
   "metadata": {},
   "outputs": [
    {
     "name": "stdout",
     "output_type": "stream",
     "text": [
      "1 details inserted\n"
     ]
    }
   ],
   "source": [
    "sql=\"insert into student (name,roll,age,branch, section) values ('raj',0205,22,'python','B1')\"\n",
    "cursorObject.execute(sql)\n",
    "conn.commit()\n",
    "print(cursorObject.rowcount,\"details inserted\")"
   ]
  },
  {
   "cell_type": "code",
   "execution_count": 67,
   "id": "7991a9a8-7c4e-4d3a-9295-a036fb7e3678",
   "metadata": {},
   "outputs": [
    {
     "name": "stdout",
     "output_type": "stream",
     "text": [
      "('Gayatri', 24, 24, 'FSD', 'B2')\n",
      "('Avinash', 1, 21, 'Patil', 'B1')\n",
      "('raj', 205, 22, 'python', 'B1')\n"
     ]
    }
   ],
   "source": [
    "sql=\"Select name, roll, age, branch,section from student \"\n",
    "cursorObject.execute(sql)\n",
    "result = cursorObject.fetchall()\n",
    "for x in result:\n",
    "    print(x)"
   ]
  },
  {
   "cell_type": "code",
   "execution_count": 60,
   "id": "327ffde0-d538-4a24-9e62-95fe7c214847",
   "metadata": {},
   "outputs": [],
   "source": [
    "conn.close()"
   ]
  },
  {
   "cell_type": "code",
   "execution_count": 63,
   "id": "ce75fbca-0ab2-4f5c-b1d9-9a2b54af337c",
   "metadata": {},
   "outputs": [],
   "source": [
    "studentRecord = \"Alter TABLE STUDENT add column phone VARCHAR(50) null\"\n",
    "cursorObject.execute(studentRecord)\n",
    "conn.commit()"
   ]
  },
  {
   "cell_type": "code",
   "execution_count": 42,
   "id": "9d1de060-65c9-477a-ba47-e0265548966e",
   "metadata": {},
   "outputs": [],
   "source": [
    "sql=\"truncate table student\"\n",
    "cursorObject.execute(sql)\n",
    "conn.commit()"
   ]
  },
  {
   "cell_type": "code",
   "execution_count": 47,
   "id": "f0305248-5432-4d33-b481-feac1d0ec9e9",
   "metadata": {},
   "outputs": [],
   "source": [
    "sql=\"drop table student\"\n",
    "cursorObject.execute(sql)\n",
    "conn.commit()"
   ]
  },
  {
   "cell_type": "code",
   "execution_count": 64,
   "id": "0abae999-d395-4661-a396-7e27005dbe7e",
   "metadata": {},
   "outputs": [
    {
     "name": "stdout",
     "output_type": "stream",
     "text": [
      "1 details deleted\n"
     ]
    }
   ],
   "source": [
    "sql=\"delete from student where roll=23\"\n",
    "cursorObject.execute(sql)\n",
    "conn.commit()\n",
    "print(cursorObject.rowcount,\"details deleted\")"
   ]
  },
  {
   "cell_type": "code",
   "execution_count": null,
   "id": "b4f5a195-31a0-40b5-ad99-d877c312b0da",
   "metadata": {},
   "outputs": [],
   "source": []
  }
 ],
 "metadata": {
  "kernelspec": {
   "display_name": "Python 3 (ipykernel)",
   "language": "python",
   "name": "python3"
  },
  "language_info": {
   "codemirror_mode": {
    "name": "ipython",
    "version": 3
   },
   "file_extension": ".py",
   "mimetype": "text/x-python",
   "name": "python",
   "nbconvert_exporter": "python",
   "pygments_lexer": "ipython3",
   "version": "3.9.7"
  }
 },
 "nbformat": 4,
 "nbformat_minor": 5
}
