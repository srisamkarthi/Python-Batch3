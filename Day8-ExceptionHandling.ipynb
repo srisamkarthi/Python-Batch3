{
 "cells": [
  {
   "cell_type": "code",
   "execution_count": 1,
   "id": "a2c8e524-79ce-4151-82ac-8102d2c4a1c9",
   "metadata": {},
   "outputs": [
    {
     "ename": "SyntaxError",
     "evalue": "invalid syntax (Temp/ipykernel_26364/2614649854.py, line 2)",
     "output_type": "error",
     "traceback": [
      "\u001b[1;36m  File \u001b[1;32m\"C:\\Users\\vijai\\AppData\\Local\\Temp/ipykernel_26364/2614649854.py\"\u001b[1;36m, line \u001b[1;32m2\u001b[0m\n\u001b[1;33m    if(age<13)\u001b[0m\n\u001b[1;37m              ^\u001b[0m\n\u001b[1;31mSyntaxError\u001b[0m\u001b[1;31m:\u001b[0m invalid syntax\n"
     ]
    }
   ],
   "source": [
    "age=13\n",
    "if(age<13)\n",
    "    print(\"The given person is a child\")"
   ]
  },
  {
   "cell_type": "code",
   "execution_count": 3,
   "id": "7c5ca88e-c4b3-4b82-a0eb-3a2ccd2701ec",
   "metadata": {},
   "outputs": [
    {
     "name": "stdout",
     "output_type": "stream",
     "text": [
      "The given person is a child\n"
     ]
    }
   ],
   "source": [
    "age=12\n",
    "if(age<13):\n",
    "    print(\"The given person is a child\")"
   ]
  },
  {
   "cell_type": "code",
   "execution_count": 5,
   "id": "97872f04-9f79-4800-9970-389f591fcb11",
   "metadata": {},
   "outputs": [
    {
     "ename": "ZeroDivisionError",
     "evalue": "division by zero",
     "output_type": "error",
     "traceback": [
      "\u001b[1;31m---------------------------------------------------------------------------\u001b[0m",
      "\u001b[1;31mZeroDivisionError\u001b[0m                         Traceback (most recent call last)",
      "\u001b[1;32m~\\AppData\\Local\\Temp/ipykernel_26364/83464531.py\u001b[0m in \u001b[0;36m<module>\u001b[1;34m\u001b[0m\n\u001b[0;32m      1\u001b[0m \u001b[0mmarks\u001b[0m \u001b[1;33m=\u001b[0m \u001b[1;36m100\u001b[0m\u001b[1;33m\u001b[0m\u001b[1;33m\u001b[0m\u001b[0m\n\u001b[0;32m      2\u001b[0m \u001b[0mstudents\u001b[0m \u001b[1;33m=\u001b[0m \u001b[1;36m0\u001b[0m\u001b[1;33m\u001b[0m\u001b[1;33m\u001b[0m\u001b[0m\n\u001b[1;32m----> 3\u001b[1;33m \u001b[0mavg\u001b[0m \u001b[1;33m=\u001b[0m \u001b[0mmarks\u001b[0m\u001b[1;33m/\u001b[0m\u001b[0mstudents\u001b[0m\u001b[1;33m\u001b[0m\u001b[1;33m\u001b[0m\u001b[0m\n\u001b[0m\u001b[0;32m      4\u001b[0m \u001b[0mprint\u001b[0m\u001b[1;33m(\u001b[0m\u001b[0mavg\u001b[0m\u001b[1;33m)\u001b[0m\u001b[1;33m\u001b[0m\u001b[1;33m\u001b[0m\u001b[0m\n",
      "\u001b[1;31mZeroDivisionError\u001b[0m: division by zero"
     ]
    }
   ],
   "source": [
    "marks = 100\n",
    "students = 0\n",
    "avg = marks/students\n",
    "print(avg)"
   ]
  },
  {
   "cell_type": "code",
   "execution_count": 6,
   "id": "22efc361-a8a7-481a-bb27-9113e3efb8be",
   "metadata": {},
   "outputs": [
    {
     "ename": "IndexError",
     "evalue": "list index out of range",
     "output_type": "error",
     "traceback": [
      "\u001b[1;31m---------------------------------------------------------------------------\u001b[0m",
      "\u001b[1;31mIndexError\u001b[0m                                Traceback (most recent call last)",
      "\u001b[1;32m~\\AppData\\Local\\Temp/ipykernel_26364/2262714231.py\u001b[0m in \u001b[0;36m<module>\u001b[1;34m\u001b[0m\n\u001b[0;32m      1\u001b[0m \u001b[0ml\u001b[0m\u001b[1;33m=\u001b[0m\u001b[1;33m[\u001b[0m\u001b[1;36m1\u001b[0m\u001b[1;33m,\u001b[0m\u001b[1;36m2\u001b[0m\u001b[1;33m,\u001b[0m\u001b[1;36m3\u001b[0m\u001b[1;33m]\u001b[0m\u001b[1;33m\u001b[0m\u001b[1;33m\u001b[0m\u001b[0m\n\u001b[1;32m----> 2\u001b[1;33m \u001b[0mprint\u001b[0m\u001b[1;33m(\u001b[0m\u001b[0ml\u001b[0m\u001b[1;33m[\u001b[0m\u001b[1;36m3\u001b[0m\u001b[1;33m]\u001b[0m\u001b[1;33m)\u001b[0m\u001b[1;33m\u001b[0m\u001b[1;33m\u001b[0m\u001b[0m\n\u001b[0m",
      "\u001b[1;31mIndexError\u001b[0m: list index out of range"
     ]
    }
   ],
   "source": [
    "l=[1,2,3]\n",
    "print(l[3])"
   ]
  },
  {
   "cell_type": "code",
   "execution_count": 7,
   "id": "a4386c3f-f2cb-4be8-96a0-89911ee38163",
   "metadata": {},
   "outputs": [
    {
     "name": "stdout",
     "output_type": "stream",
     "text": [
      "Error aoccured while processing\n"
     ]
    }
   ],
   "source": [
    "try:\n",
    "    l=[1,2,3]\n",
    "    print(l[3])\n",
    "except:\n",
    "    print(\"Error occured while processing\")"
   ]
  },
  {
   "cell_type": "code",
   "execution_count": 8,
   "id": "c26f5848-6d76-45e6-b2d7-f4e802dc7470",
   "metadata": {},
   "outputs": [
    {
     "name": "stdout",
     "output_type": "stream",
     "text": [
      "Error aoccured while processing\n"
     ]
    }
   ],
   "source": [
    "try:\n",
    "    marks = 100\n",
    "    students = 0\n",
    "    avg = marks/students\n",
    "    print(avg)\n",
    "except:\n",
    "    print(\"Error occured while processing\")"
   ]
  },
  {
   "cell_type": "code",
   "execution_count": 9,
   "id": "b0927069-f4a5-4c50-80ed-683375779afe",
   "metadata": {},
   "outputs": [
    {
     "name": "stdout",
     "output_type": "stream",
     "text": [
      "carrot vegetables are not in the basket\n"
     ]
    }
   ],
   "source": [
    "try:\n",
    "    l=[1,2,3]\n",
    "    print(l[3])\n",
    "except IndexError:\n",
    "    print(\"carrot vegetables are not in the basket\")"
   ]
  },
  {
   "cell_type": "code",
   "execution_count": 18,
   "id": "9294fc98-9f3b-46c3-8eb7-2de16d60c6a5",
   "metadata": {},
   "outputs": [],
   "source": [
    "def billcalculate(price, vegies):\n",
    "    try:\n",
    "        print(vegies[2])\n",
    "        bill = vegies[2]/price[2]\n",
    "        print(\"amount {0}\",bill)\n",
    "    except ZeroDivisionError:\n",
    "        print(\"amount is zero cannot calulate the bill\")\n",
    "    except IndexError:\n",
    "        print(\"Item not in the basket\")\n",
    "    else:\n",
    "        print(\"not a specific error\")\n",
    "    "
   ]
  },
  {
   "cell_type": "code",
   "execution_count": 16,
   "id": "4723de08-702a-4cb2-8311-89739ed024e1",
   "metadata": {},
   "outputs": [
    {
     "name": "stdout",
     "output_type": "stream",
     "text": [
      "5\n",
      "amount {0} 1000\n"
     ]
    }
   ],
   "source": [
    "price =[100, 80, 200]\n",
    "vegies=[1,3,5]\n",
    "billcalculate(price,vegies)"
   ]
  },
  {
   "cell_type": "code",
   "execution_count": 20,
   "id": "2263a521-f786-4454-b7a6-7e224e087e04",
   "metadata": {},
   "outputs": [
    {
     "name": "stdout",
     "output_type": "stream",
     "text": [
      "Item not in the basket\n",
      "5\n",
      "amount is zero cannot calulate the bill\n"
     ]
    }
   ],
   "source": [
    "price =[100,80,200]\n",
    "vegies=[1,3]\n",
    "price =[100,80,0]\n",
    "vegies1=[1,3,5]\n",
    "billcalculate(price,vegies)\n",
    "billcalculate(price,vegies1)"
   ]
  },
  {
   "cell_type": "code",
   "execution_count": 5,
   "id": "8936f711-65a8-44d2-ae29-c21fccccf32d",
   "metadata": {},
   "outputs": [],
   "source": [
    "def AbyB(a,b):\n",
    "    try:\n",
    "        c = ((a+b) / (a-b))\n",
    "        #return c\n",
    "    except ZeroDivisionError:\n",
    "        print (\"a/b result in 0\")\n",
    "    else:\n",
    "        print(\"Hi\")\n",
    "    finally:\n",
    "        print(\"Hello\")        "
   ]
  },
  {
   "cell_type": "code",
   "execution_count": 6,
   "id": "dc5f680f-63c0-454b-8d04-20c637e11b24",
   "metadata": {},
   "outputs": [
    {
     "name": "stdout",
     "output_type": "stream",
     "text": [
      "Hi\n",
      "Hello\n"
     ]
    }
   ],
   "source": [
    "AbyB(2.0, 3.0)\n",
    "#AbyB(3.0, 3.0)"
   ]
  },
  {
   "cell_type": "code",
   "execution_count": 11,
   "id": "91e9e92d-a74b-478b-a4bd-c67ce071ae3e",
   "metadata": {},
   "outputs": [
    {
     "name": "stdout",
     "output_type": "stream",
     "text": [
      "An exception\n"
     ]
    },
    {
     "ename": "IndexError",
     "evalue": "Index not found",
     "output_type": "error",
     "traceback": [
      "\u001b[1;31m---------------------------------------------------------------------------\u001b[0m",
      "\u001b[1;31mIndexError\u001b[0m                                Traceback (most recent call last)",
      "\u001b[1;32m~\\AppData\\Local\\Temp/ipykernel_7008/193259409.py\u001b[0m in \u001b[0;36m<module>\u001b[1;34m\u001b[0m\n\u001b[0;32m      1\u001b[0m \u001b[1;32mtry\u001b[0m\u001b[1;33m:\u001b[0m\u001b[1;33m\u001b[0m\u001b[1;33m\u001b[0m\u001b[0m\n\u001b[1;32m----> 2\u001b[1;33m     \u001b[1;32mraise\u001b[0m \u001b[0mIndexError\u001b[0m\u001b[1;33m(\u001b[0m\u001b[1;34m\"Index not found\"\u001b[0m\u001b[1;33m)\u001b[0m\u001b[1;33m\u001b[0m\u001b[1;33m\u001b[0m\u001b[0m\n\u001b[0m\u001b[0;32m      3\u001b[0m \u001b[1;32mexcept\u001b[0m \u001b[0mIndexError\u001b[0m\u001b[1;33m:\u001b[0m\u001b[1;33m\u001b[0m\u001b[1;33m\u001b[0m\u001b[0m\n\u001b[0;32m      4\u001b[0m     \u001b[0mprint\u001b[0m \u001b[1;33m(\u001b[0m\u001b[1;34m\"An exception\"\u001b[0m\u001b[1;33m)\u001b[0m\u001b[1;33m\u001b[0m\u001b[1;33m\u001b[0m\u001b[0m\n\u001b[0;32m      5\u001b[0m     \u001b[1;32mraise\u001b[0m\u001b[1;33m\u001b[0m\u001b[1;33m\u001b[0m\u001b[0m\n",
      "\u001b[1;31mIndexError\u001b[0m: Index not found"
     ]
    }
   ],
   "source": [
    "try:\n",
    "    raise IndexError(\"Index not found\")\n",
    "except IndexError:\n",
    "    print (\"An exception\")\n",
    "    raise"
   ]
  },
  {
   "cell_type": "code",
   "execution_count": null,
   "id": "6eec182b-0c84-4f3b-b6c9-175e1a431656",
   "metadata": {},
   "outputs": [],
   "source": []
  }
 ],
 "metadata": {
  "kernelspec": {
   "display_name": "Python 3 (ipykernel)",
   "language": "python",
   "name": "python3"
  },
  "language_info": {
   "codemirror_mode": {
    "name": "ipython",
    "version": 3
   },
   "file_extension": ".py",
   "mimetype": "text/x-python",
   "name": "python",
   "nbconvert_exporter": "python",
   "pygments_lexer": "ipython3",
   "version": "3.9.7"
  }
 },
 "nbformat": 4,
 "nbformat_minor": 5
}
