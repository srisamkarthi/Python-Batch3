{
 "cells": [
  {
   "cell_type": "code",
   "execution_count": 2,
   "id": "4612805f-fd4b-46f6-9ddb-4eb500c1ea6f",
   "metadata": {},
   "outputs": [],
   "source": [
    "class Car:\n",
    "    def __init__(self, name,carType):\n",
    "        self.name= name\n",
    "        self.carType =carType"
   ]
  },
  {
   "cell_type": "code",
   "execution_count": 3,
   "id": "b59e6132-cade-42bb-b724-8fac75662bda",
   "metadata": {},
   "outputs": [],
   "source": [
    "swift = Car(\"swift\", \"Diesel\")\n",
    "i10 = Car(\"I10\", \"Petrol\")"
   ]
  },
  {
   "cell_type": "code",
   "execution_count": 4,
   "id": "cbd673c6-57e2-4ea5-a708-927904abaf70",
   "metadata": {},
   "outputs": [
    {
     "name": "stdout",
     "output_type": "stream",
     "text": [
      "swiftDiesel\n",
      "I10Petrol\n"
     ]
    }
   ],
   "source": [
    "print(swift.name + swift.carType)\n",
    "print(i10.name + i10.carType)"
   ]
  },
  {
   "cell_type": "code",
   "execution_count": 5,
   "id": "22a40721-5420-4c4a-9f53-eb8a0a3a8262",
   "metadata": {},
   "outputs": [],
   "source": [
    "class Suzuki(Car):\n",
    "    def __init__(self,name, carType, engineType):\n",
    "        Car.__init__(self, name, carType)\n",
    "        self.engineType=engineType"
   ]
  },
  {
   "cell_type": "code",
   "execution_count": 6,
   "id": "ab86d0e6-86a1-40dc-8e5d-0c877161965c",
   "metadata": {},
   "outputs": [
    {
     "name": "stdout",
     "output_type": "stream",
     "text": [
      "swiftDieselK10\n"
     ]
    }
   ],
   "source": [
    "swift = Suzuki(\"swift\", \"Diesel\",\"K10\")\n",
    "print(swift.name + swift.carType + swift.engineType)"
   ]
  },
  {
   "cell_type": "code",
   "execution_count": 7,
   "id": "bf1f9665-2717-46f5-b4b3-d7740d43d157",
   "metadata": {},
   "outputs": [],
   "source": [
    "class BMW(Car):\n",
    "    def __init__(self,name, carType, engineType):\n",
    "        Car.__init__(self, name, carType)\n",
    "        self.engineType=engineType    "
   ]
  },
  {
   "cell_type": "code",
   "execution_count": 8,
   "id": "58f996f5-870d-41ae-aa53-c17d06b24db5",
   "metadata": {},
   "outputs": [
    {
     "name": "stdout",
     "output_type": "stream",
     "text": [
      "EDieselmHawk\n"
     ]
    }
   ],
   "source": [
    "eseries = BMW(\"E\",\"Diesel\", \"mHawk\")\n",
    "print(eseries.name + eseries.carType + eseries.engineType)"
   ]
  },
  {
   "cell_type": "code",
   "execution_count": null,
   "id": "27a4ac90-4057-4b7f-a10d-1ecb27d5bfae",
   "metadata": {},
   "outputs": [],
   "source": []
  }
 ],
 "metadata": {
  "kernelspec": {
   "display_name": "Python 3 (ipykernel)",
   "language": "python",
   "name": "python3"
  },
  "language_info": {
   "codemirror_mode": {
    "name": "ipython",
    "version": 3
   },
   "file_extension": ".py",
   "mimetype": "text/x-python",
   "name": "python",
   "nbconvert_exporter": "python",
   "pygments_lexer": "ipython3",
   "version": "3.9.7"
  }
 },
 "nbformat": 4,
 "nbformat_minor": 5
}
