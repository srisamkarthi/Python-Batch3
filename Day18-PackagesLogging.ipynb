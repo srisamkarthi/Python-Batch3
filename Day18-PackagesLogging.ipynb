{
 "cells": [
  {
   "cell_type": "code",
   "execution_count": 1,
   "id": "71423db3-47c9-4135-a0b5-05d40bdc8008",
   "metadata": {},
   "outputs": [],
   "source": [
    "from Icecreams import BlackCurrent"
   ]
  },
  {
   "cell_type": "code",
   "execution_count": 2,
   "id": "42fa4f49-3ae4-4b47-b022-5de155a76af7",
   "metadata": {},
   "outputs": [
    {
     "name": "stdout",
     "output_type": "stream",
     "text": [
      "init Black Current\n",
      "These are the available Flavours in Black Current\n",
      "\tcake \n",
      "\tvanilla \n",
      "\tchocolatee \n"
     ]
    }
   ],
   "source": [
    "clsBlackCurrent = BlackCurrent.BlackCurrent()\n",
    "clsBlackCurrent.showFlavours()"
   ]
  },
  {
   "cell_type": "code",
   "execution_count": 10,
   "id": "64e1d8bc-60b2-4e4b-badd-9490bebdf48f",
   "metadata": {},
   "outputs": [],
   "source": [
    "import logging\n",
    "#Create and configure logger\n",
    "logging.basicConfig(filename=\"newfile.log\",format='%(asctime)s %(message)s',filemode='w')\n",
    "#Creating an object\n",
    "logger=logging.getLogger()\n",
    "#Setting the threshold of logger to DEBUG\n",
    "logger.setLevel(logging.DEBUG)\n",
    "#Test messages\n",
    "logger.debug(\"Harmless debug Message\")\n",
    "logger.info(\"Just an information\")\n",
    "logger.warning(\"Its a Warning\")\n",
    "logger.error(\"Did you try to divide by zero\")\n",
    "logger.critical(\"Internet is down\")"
   ]
  },
  {
   "cell_type": "code",
   "execution_count": null,
   "id": "f4684822-6ec8-44c3-a584-8e3de0369ca1",
   "metadata": {},
   "outputs": [],
   "source": []
  }
 ],
 "metadata": {
  "kernelspec": {
   "display_name": "Python 3 (ipykernel)",
   "language": "python",
   "name": "python3"
  },
  "language_info": {
   "codemirror_mode": {
    "name": "ipython",
    "version": 3
   },
   "file_extension": ".py",
   "mimetype": "text/x-python",
   "name": "python",
   "nbconvert_exporter": "python",
   "pygments_lexer": "ipython3",
   "version": "3.9.7"
  }
 },
 "nbformat": 4,
 "nbformat_minor": 5
}
