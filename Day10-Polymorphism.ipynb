{
 "cells": [
  {
   "cell_type": "code",
   "execution_count": 26,
   "id": "36c48cbb-99d4-4f62-887c-538026e574cb",
   "metadata": {},
   "outputs": [],
   "source": [
    "class Aeroplane:\n",
    "    def Intro(self):\n",
    "        print(\"Aeroplanes are expensive\")    \n",
    "    def FlightLevel(self):\n",
    "        print(\"Aeroplanes can fly upto 30000 Feet\")       "
   ]
  },
  {
   "cell_type": "code",
   "execution_count": 27,
   "id": "1fb50a81-fbc3-496c-8fba-4c7837b72980",
   "metadata": {},
   "outputs": [],
   "source": [
    "class Engine:\n",
    "    def EngineType(self, name):\n",
    "        print(name + \" engine\")"
   ]
  },
  {
   "cell_type": "code",
   "execution_count": 28,
   "id": "75db27bd-c44f-4627-93b5-8463283d39f5",
   "metadata": {},
   "outputs": [],
   "source": [
    "class B747(Aeroplane, Engine):\n",
    "    def FlightLevel(self):\n",
    "        print(\"B747 can fly upto 35000 Feet\")"
   ]
  },
  {
   "cell_type": "code",
   "execution_count": 29,
   "id": "64dc1654-b150-4c56-a4a2-25708fb0c042",
   "metadata": {},
   "outputs": [],
   "source": [
    "class B340(Aeroplane):\n",
    "    def FlightLevel(self):\n",
    "        print(\"B340 can fly upto 25000 Feet\")"
   ]
  },
  {
   "cell_type": "code",
   "execution_count": 30,
   "id": "2e5e463b-67bb-4f54-a5be-1ce0da19ec8a",
   "metadata": {},
   "outputs": [],
   "source": [
    "class ATR(Aeroplane):\n",
    "    def FlightLevel(self):\n",
    "        print(\"ATR can fly upto 15000 Feet\")"
   ]
  },
  {
   "cell_type": "code",
   "execution_count": 31,
   "id": "7e90c60c-b2e5-4348-aa0a-5c8aef076975",
   "metadata": {},
   "outputs": [
    {
     "name": "stdout",
     "output_type": "stream",
     "text": [
      "Aeroplanes are expensive\n",
      "B747 can fly upto 35000 Feet\n",
      "GE engine\n"
     ]
    }
   ],
   "source": [
    "b747max = B747()\n",
    "b747max.Intro()\n",
    "b747max.FlightLevel()\n",
    "b747max.EngineType(\"GE\")"
   ]
  },
  {
   "cell_type": "code",
   "execution_count": 20,
   "id": "9933e096-8b38-4307-b42a-e293e7a99b94",
   "metadata": {},
   "outputs": [
    {
     "name": "stdout",
     "output_type": "stream",
     "text": [
      "Aeroplanes are expensive\n",
      "Aeroplanes can fly upto 30000 Feet\n"
     ]
    }
   ],
   "source": [
    "aeroplane = Aeroplane()\n",
    "aeroplane.Intro()\n",
    "aeroplane.FlightLevel()"
   ]
  },
  {
   "cell_type": "code",
   "execution_count": 22,
   "id": "22e8df21-292b-43cd-b9f6-795c8a8158a2",
   "metadata": {},
   "outputs": [],
   "source": [
    "class Table:\n",
    "    def __init__(self, legs):\n",
    "        self.legs = legs\n",
    "        \n",
    "    def tabletype(self):\n",
    "        if self.legs == 4:\n",
    "            print(\"Square/rectangle table\")\n",
    "        elif self.legs == 3:\n",
    "            print(\"round table\")        "
   ]
  },
  {
   "cell_type": "code",
   "execution_count": 24,
   "id": "90d2da96-3d21-4322-9f01-79825d4610d4",
   "metadata": {},
   "outputs": [
    {
     "name": "stdout",
     "output_type": "stream",
     "text": [
      "Square/rectangle table\n"
     ]
    }
   ],
   "source": [
    "t = Table(4)\n",
    "t.tabletype()"
   ]
  },
  {
   "cell_type": "code",
   "execution_count": 25,
   "id": "d9b18d49-b305-4ef8-90af-12ee6de85000",
   "metadata": {},
   "outputs": [
    {
     "name": "stdout",
     "output_type": "stream",
     "text": [
      "round table\n"
     ]
    }
   ],
   "source": [
    "t = Table(3)\n",
    "t.tabletype()"
   ]
  },
  {
   "cell_type": "code",
   "execution_count": 32,
   "id": "779f734d-e6cc-4234-9c6d-4ca233b8b43f",
   "metadata": {},
   "outputs": [],
   "source": [
    "class radiator(Engine):\n",
    "    def rtype(self):\n",
    "        print(\"Coolant Type\")    "
   ]
  },
  {
   "cell_type": "code",
   "execution_count": 33,
   "id": "4868ca0e-eeb9-4d5f-aba6-74dea9eec27a",
   "metadata": {},
   "outputs": [],
   "source": [
    "class airconditioner(radiator):\n",
    "    def actype(self):\n",
    "        print(\"very cool\")    "
   ]
  },
  {
   "cell_type": "code",
   "execution_count": 34,
   "id": "8c2a594a-9741-462a-989f-a6d782a88bba",
   "metadata": {},
   "outputs": [
    {
     "name": "stdout",
     "output_type": "stream",
     "text": [
      "DDIs engine\n",
      "Coolant Type\n",
      "very cool\n"
     ]
    }
   ],
   "source": [
    "car = airconditioner()\n",
    "car.EngineType(\"DDIs\")\n",
    "car.rtype()\n",
    "car.actype()"
   ]
  },
  {
   "cell_type": "code",
   "execution_count": null,
   "id": "a73f1832-2c0f-40d2-b892-95b99b6249eb",
   "metadata": {},
   "outputs": [],
   "source": []
  }
 ],
 "metadata": {
  "kernelspec": {
   "display_name": "Python 3 (ipykernel)",
   "language": "python",
   "name": "python3"
  },
  "language_info": {
   "codemirror_mode": {
    "name": "ipython",
    "version": 3
   },
   "file_extension": ".py",
   "mimetype": "text/x-python",
   "name": "python",
   "nbconvert_exporter": "python",
   "pygments_lexer": "ipython3",
   "version": "3.9.7"
  }
 },
 "nbformat": 4,
 "nbformat_minor": 5
}
