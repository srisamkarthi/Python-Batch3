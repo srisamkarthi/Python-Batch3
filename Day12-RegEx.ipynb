{
 "cells": [
  {
   "cell_type": "code",
   "execution_count": 6,
   "id": "2c682483-7091-4f77-8963-d7c85a801154",
   "metadata": {},
   "outputs": [
    {
     "name": "stdout",
     "output_type": "stream",
     "text": [
      "Date{mm-dd-yyyy}: <re.Match object; span=(0, 10), match='18-08-2020'>\n"
     ]
    }
   ],
   "source": [
    "import re\n",
    "print('Date{mm-dd-yyyy}:', re.search(r'[\\d]{2}-[\\d]{2}-[\\d]{4}','18-08-2020'))"
   ]
  },
  {
   "cell_type": "code",
   "execution_count": 9,
   "id": "f257636f-6014-4781-8838-8b89a9cf5e8b",
   "metadata": {},
   "outputs": [
    {
     "name": "stdout",
     "output_type": "stream",
     "text": [
      "<re.Match object; span=(0, 3), match='kar'>\n"
     ]
    }
   ],
   "source": [
    "print(re.search(r'[\\w]{3}-[\\w]{3}','karthikeya-Sri'))"
   ]
  },
  {
   "cell_type": "code",
   "execution_count": 12,
   "id": "19b69f22-3f03-492f-abd6-f1cd1a3de526",
   "metadata": {},
   "outputs": [
    {
     "name": "stdout",
     "output_type": "stream",
     "text": [
      "Three Digit: <re.Match object; span=(0, 3), match='189'>\n",
      "Four Digit: <re.Match object; span=(0, 3), match='214'>\n"
     ]
    }
   ],
   "source": [
    "print('Three Digit:', re.search(r'[\\d]{3,4}', '189'))\n",
    "print('Four Digit:', re.search(r'[\\d]{3,3}', '2145'))"
   ]
  },
  {
   "cell_type": "code",
   "execution_count": 13,
   "id": "0bf59b9c-6913-4501-ab0f-afc81e1dedf3",
   "metadata": {},
   "outputs": [
    {
     "name": "stdout",
     "output_type": "stream",
     "text": [
      "<re.Match object; span=(0, 6), match='karthi'>\n"
     ]
    }
   ],
   "source": [
    "print(re.search(r'[\\w]{3,6}','karthikeya-Sri'))"
   ]
  },
  {
   "cell_type": "code",
   "execution_count": 16,
   "id": "13a939cd-f252-46f8-92d4-d02fef5c77c0",
   "metadata": {},
   "outputs": [
    {
     "name": "stdout",
     "output_type": "stream",
     "text": [
      "<re.Match object; span=(3, 5), match='91'>\n"
     ]
    }
   ],
   "source": [
    "print(re.search(r'[\\d]+', 'abc91'))"
   ]
  },
  {
   "cell_type": "code",
   "execution_count": 19,
   "id": "46a9946c-1ed9-4310-9b8b-fe7b06445916",
   "metadata": {},
   "outputs": [
    {
     "name": "stdout",
     "output_type": "stream",
     "text": [
      "<re.Match object; span=(0, 0), match=''>\n"
     ]
    }
   ],
   "source": [
    "print(re.search(r'[\\d]*', 'abc91'))"
   ]
  },
  {
   "cell_type": "code",
   "execution_count": 20,
   "id": "b5163d36-217a-407e-aafa-0416b7427974",
   "metadata": {},
   "outputs": [
    {
     "name": "stdout",
     "output_type": "stream",
     "text": [
      "<re.Match object; span=(0, 5), match='abc91'>\n"
     ]
    }
   ],
   "source": [
    "print(re.search(r'[\\w]+', 'abc91'))"
   ]
  },
  {
   "cell_type": "code",
   "execution_count": 28,
   "id": "f380b4c8-8145-4749-9de3-7fa5ab138a52",
   "metadata": {},
   "outputs": [
    {
     "name": "stdout",
     "output_type": "stream",
     "text": [
      "<re.Match object; span=(0, 10), match='26-08-2020'>\n",
      "26-08-2020\n",
      "('26', '08', '2020')\n",
      "08\n",
      "2020\n"
     ]
    }
   ],
   "source": [
    "grp = re.search(r'(?P<dd>[\\d]{2})-(?P<mm>[\\d]{2})-(?P<yyyy>[\\d]{4})', '26-08-2020')\n",
    "print(grp)\n",
    "print(grp.group())\n",
    "print(grp.groups())\n",
    "print(grp.group(2))\n",
    "print(grp.group('yyyy'))"
   ]
  },
  {
   "cell_type": "code",
   "execution_count": 30,
   "id": "0e8996a3-c0d8-41b7-9743-345faf401c96",
   "metadata": {},
   "outputs": [
    {
     "name": "stdout",
     "output_type": "stream",
     "text": [
      "python\n",
      "advanced\n",
      "course\n"
     ]
    }
   ],
   "source": [
    "grp = re.search(r'(?P<py>[\\w]{6})-(?P<adv>[\\w]{8})-(?P<cc>[\\w]{6})', 'python-advanced-course')\n",
    "print(grp.group('py'))\n",
    "print(grp.group('adv'))\n",
    "print(grp.group('cc'))"
   ]
  },
  {
   "cell_type": "code",
   "execution_count": 32,
   "id": "942c85cb-5da8-4df6-add1-07e9b84c1a00",
   "metadata": {},
   "outputs": [
    {
     "name": "stdout",
     "output_type": "stream",
     "text": [
      "{'py': 'python', 'adv': 'advanced', 'cc': 'course'}\n",
      "python\n"
     ]
    }
   ],
   "source": [
    "grp = re.search(r'(?P<py>[\\w]{6})-(?P<adv>[\\w]{8})-(?P<cc>[\\w]{6})', 'python-advanced-course')\n",
    "print(grp.groupdict())\n",
    "words = grp.groupdict()\n",
    "print(words['py'])"
   ]
  },
  {
   "cell_type": "code",
   "execution_count": 34,
   "id": "f79e3492-ab36-4616-a8b2-b41ec09be852",
   "metadata": {},
   "outputs": [
    {
     "name": "stdout",
     "output_type": "stream",
     "text": [
      "negation: <re.Match object; span=(0, 7), match='karthik'>\n"
     ]
    }
   ],
   "source": [
    "print('negation:', re.search(r'karthi[^e]', 'karthikeya'))"
   ]
  },
  {
   "cell_type": "code",
   "execution_count": 43,
   "id": "c1f32b1e-4784-4861-a090-918252da9879",
   "metadata": {},
   "outputs": [
    {
     "name": "stdout",
     "output_type": "stream",
     "text": [
      "lookahead: None\n"
     ]
    }
   ],
   "source": [
    "print('lookahead:', re.search(r'n(?!e)', 'Jasmine'))"
   ]
  },
  {
   "cell_type": "code",
   "execution_count": 41,
   "id": "1586da99-ae81-4485-8dec-0e4873b64f71",
   "metadata": {},
   "outputs": [
    {
     "name": "stdout",
     "output_type": "stream",
     "text": [
      "positive lookahead <re.Match object; span=(5, 6), match='n'>\n"
     ]
    }
   ],
   "source": [
    "print('positive lookahead', re.search(r'n(?=e)', 'jasmine'))"
   ]
  },
  {
   "cell_type": "code",
   "execution_count": 45,
   "id": "6b81c99f-16f9-4ddc-a4cd-2513e5969dfe",
   "metadata": {},
   "outputs": [
    {
     "name": "stdout",
     "output_type": "stream",
     "text": [
      "111122224444\n"
     ]
    }
   ],
   "source": [
    "print(re.sub(r'([\\d]{4})-([\\d]{4})-([\\d]{4})-([\\d]{4})',r'\\1\\2\\3\\4','1111-2222-3333-4444'))"
   ]
  },
  {
   "cell_type": "code",
   "execution_count": 51,
   "id": "fbf1391f-5abb-4400-8e25-5e0e63fed0b5",
   "metadata": {},
   "outputs": [
    {
     "name": "stdout",
     "output_type": "stream",
     "text": [
      "aaaa\n"
     ]
    }
   ],
   "source": [
    "print(re.sub(r'([\\w]{4})-([\\w]{4})-([\\w]{4})',r'aaaa','aaaa-bbbb-cccc'))"
   ]
  },
  {
   "cell_type": "code",
   "execution_count": null,
   "id": "23cae522-df42-4d50-afbf-e5361371a36e",
   "metadata": {},
   "outputs": [],
   "source": []
  }
 ],
 "metadata": {
  "kernelspec": {
   "display_name": "Python 3 (ipykernel)",
   "language": "python",
   "name": "python3"
  },
  "language_info": {
   "codemirror_mode": {
    "name": "ipython",
    "version": 3
   },
   "file_extension": ".py",
   "mimetype": "text/x-python",
   "name": "python",
   "nbconvert_exporter": "python",
   "pygments_lexer": "ipython3",
   "version": "3.9.7"
  }
 },
 "nbformat": 4,
 "nbformat_minor": 5
}
