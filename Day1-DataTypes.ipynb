{
 "cells": [
  {
   "cell_type": "code",
   "execution_count": 2,
   "id": "46d4a82c-31a5-47f8-af1a-d2c8359f3f5d",
   "metadata": {},
   "outputs": [
    {
     "name": "stdout",
     "output_type": "stream",
     "text": [
      "Type of b: <class 'int'>\n"
     ]
    }
   ],
   "source": [
    "a=-5\n",
    "print(\"Type of b:\", type(a))"
   ]
  },
  {
   "cell_type": "code",
   "execution_count": 5,
   "id": "53f7ee26-b6d4-43d4-a553-d73b7e4d9814",
   "metadata": {},
   "outputs": [
    {
     "name": "stdout",
     "output_type": "stream",
     "text": [
      "Type of b: <class 'float'>\n"
     ]
    }
   ],
   "source": [
    "b=11.2\n",
    "print(\"Type of b:\", type(b))"
   ]
  },
  {
   "cell_type": "code",
   "execution_count": 6,
   "id": "35b89dc6-67ad-4f9d-bda9-fe7f0c820c26",
   "metadata": {},
   "outputs": [
    {
     "name": "stdout",
     "output_type": "stream",
     "text": [
      "Type of c: <class 'complex'>\n"
     ]
    }
   ],
   "source": [
    "c=2+3j\n",
    "print(\"Type of c:\", type(c))"
   ]
  },
  {
   "cell_type": "code",
   "execution_count": 5,
   "id": "135b3b2f-c003-4138-9951-aa31f05a797a",
   "metadata": {},
   "outputs": [
    {
     "name": "stdout",
     "output_type": "stream",
     "text": [
      "Type of s: <class 'str'>\n",
      "c\n"
     ]
    }
   ],
   "source": [
    "s='''Welcome to Netzwerk Academy'''\n",
    "print(\"Type of s:\", type(s))\n",
    "print(s[-6])"
   ]
  },
  {
   "cell_type": "code",
   "execution_count": 4,
   "id": "8f770cff-9eed-4c77-9e0a-61c2173d5665",
   "metadata": {},
   "outputs": [
    {
     "name": "stdout",
     "output_type": "stream",
     "text": [
      "y\n"
     ]
    }
   ],
   "source": [
    "s='Karthikeya'\n",
    "print(s[-2])"
   ]
  },
  {
   "cell_type": "code",
   "execution_count": 6,
   "id": "6bcbd064-af4c-411a-9472-dea113a8b40d",
   "metadata": {},
   "outputs": [
    {
     "name": "stdout",
     "output_type": "stream",
     "text": [
      "[]\n"
     ]
    }
   ],
   "source": [
    "lst=[]\n",
    "print(lst)"
   ]
  },
  {
   "cell_type": "code",
   "execution_count": 7,
   "id": "2a8bd25a-759d-4464-8b94-4a804c35c55f",
   "metadata": {},
   "outputs": [
    {
     "name": "stdout",
     "output_type": "stream",
     "text": [
      "['apple', 'grapes', 'banana']\n"
     ]
    }
   ],
   "source": [
    "fruits=['apple', 'grapes', 'banana']\n",
    "print(fruits)"
   ]
  },
  {
   "cell_type": "code",
   "execution_count": 8,
   "id": "cd9181a4-2a53-4691-bacb-be35634a1022",
   "metadata": {},
   "outputs": [
    {
     "name": "stdout",
     "output_type": "stream",
     "text": [
      "['Tomato', 'Brinjal', 'Drumstick']\n"
     ]
    }
   ],
   "source": [
    "vegies=['Tomato','Brinjal','Drumstick']\n",
    "print(vegies)"
   ]
  },
  {
   "cell_type": "code",
   "execution_count": 9,
   "id": "bfa7fde0-d9c4-4a9e-8fdd-320251a7a0f3",
   "metadata": {},
   "outputs": [
    {
     "name": "stdout",
     "output_type": "stream",
     "text": [
      "[['Tomato', 'Brinjal', 'Drumstick'], ['apple', 'grapes', 'banana']]\n"
     ]
    }
   ],
   "source": [
    "fv=[vegies, fruits]\n",
    "print(fv)"
   ]
  },
  {
   "cell_type": "code",
   "execution_count": 11,
   "id": "a175247d-a1b2-4a56-a573-c0144192d353",
   "metadata": {},
   "outputs": [
    {
     "name": "stdout",
     "output_type": "stream",
     "text": [
      "Drumstick\n"
     ]
    }
   ],
   "source": [
    "print(fv[0][2])"
   ]
  },
  {
   "cell_type": "code",
   "execution_count": null,
   "id": "312f373a-3c64-471d-bd39-36c667fc243b",
   "metadata": {},
   "outputs": [],
   "source": []
  },
  {
   "cell_type": "code",
   "execution_count": null,
   "id": "88a42122-d809-4bef-a711-0c493ef5d095",
   "metadata": {},
   "outputs": [],
   "source": []
  }
 ],
 "metadata": {
  "kernelspec": {
   "display_name": "Python 3 (ipykernel)",
   "language": "python",
   "name": "python3"
  },
  "language_info": {
   "codemirror_mode": {
    "name": "ipython",
    "version": 3
   },
   "file_extension": ".py",
   "mimetype": "text/x-python",
   "name": "python",
   "nbconvert_exporter": "python",
   "pygments_lexer": "ipython3",
   "version": "3.9.7"
  }
 },
 "nbformat": 4,
 "nbformat_minor": 5
}
