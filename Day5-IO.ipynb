{
 "cells": [
  {
   "cell_type": "code",
   "execution_count": 1,
   "id": "152f3ba9-4bb7-4e10-960d-f60f1937e2ac",
   "metadata": {},
   "outputs": [
    {
     "name": "stdin",
     "output_type": "stream",
     "text": [
      "Enter name: qqqq\n"
     ]
    },
    {
     "name": "stdout",
     "output_type": "stream",
     "text": [
      "the name is qqqq\n"
     ]
    }
   ],
   "source": [
    "a = input('Enter name:')\n",
    "print('the name is '+ a) "
   ]
  },
  {
   "cell_type": "code",
   "execution_count": 3,
   "id": "6a16e282-03e8-4218-a945-90b5fb2bef1b",
   "metadata": {},
   "outputs": [
    {
     "name": "stdin",
     "output_type": "stream",
     "text": [
      "Enter Number 10\n"
     ]
    },
    {
     "name": "stdout",
     "output_type": "stream",
     "text": [
      "20\n"
     ]
    }
   ],
   "source": [
    "num = int(input('Enter Number'))\n",
    "print(num + 10)"
   ]
  },
  {
   "cell_type": "code",
   "execution_count": 4,
   "id": "bf8a6f04-cc39-4d6c-9f00-6308a4ef8e64",
   "metadata": {},
   "outputs": [
    {
     "name": "stdout",
     "output_type": "stream",
     "text": [
      "karthikeya\n"
     ]
    }
   ],
   "source": [
    "print('karthikeya')"
   ]
  },
  {
   "cell_type": "code",
   "execution_count": 12,
   "id": "d50e665d-9de7-4ef2-8b19-241bdeec1e38",
   "metadata": {},
   "outputs": [
    {
     "name": "stdout",
     "output_type": "stream",
     "text": [
      "Netzwerk|Academy|student!"
     ]
    }
   ],
   "source": [
    "print('Netzwerk','Academy', 'student', sep='|', end='!')"
   ]
  },
  {
   "cell_type": "code",
   "execution_count": 14,
   "id": "3bdd60f2-688f-4831-a5e5-06706d842fe3",
   "metadata": {},
   "outputs": [
    {
     "name": "stdout",
     "output_type": "stream",
     "text": [
      "this is netzwerk academy ML course and session time is 6:00 PM\n"
     ]
    }
   ],
   "source": [
    "a='ML'\n",
    "b='6:00 PM'\n",
    "print('this is netzwerk academy {} course and session time is {}'.format(a,b))"
   ]
  },
  {
   "cell_type": "code",
   "execution_count": 25,
   "id": "6d1ccdf8-c63e-40b8-a164-ed86bebc5c7c",
   "metadata": {},
   "outputs": [
    {
     "name": "stdout",
     "output_type": "stream",
     "text": [
      "addition of 2 and 3 numbers is 5\n"
     ]
    }
   ],
   "source": [
    "a=2\n",
    "b=3\n",
    "sub = a + b\n",
    "print('addition of {0} and {1} numbers is {2}'.format(a,b,sub))"
   ]
  },
  {
   "cell_type": "code",
   "execution_count": 22,
   "id": "dcb06008-ec5c-46df-bea3-8a3a57bf0cb1",
   "metadata": {},
   "outputs": [
    {
     "name": "stdout",
     "output_type": "stream",
     "text": [
      "this is a number 5.25\n"
     ]
    }
   ],
   "source": [
    "k='5.25'\n",
    "print('this is a number %s' %k)"
   ]
  },
  {
   "cell_type": "code",
   "execution_count": 27,
   "id": "925ce2f2-2238-45ba-a6b3-22ee2bd85476",
   "metadata": {},
   "outputs": [
    {
     "name": "stdout",
     "output_type": "stream",
     "text": [
      "Hello 1! How are you?\n",
      "Hello 2! How are you?\n",
      "Hello 3! How are you?\n",
      "Hello 4! How are you?\n",
      "Hello 5! How are you?\n"
     ]
    }
   ],
   "source": [
    "name=[1,2,3,4,5]\n",
    "for i in name:\n",
    "    print('Hello {0}! How are you?'.format(i))\n"
   ]
  },
  {
   "cell_type": "code",
   "execution_count": 31,
   "id": "2591d094-665d-402a-96ef-fa477ab9873a",
   "metadata": {},
   "outputs": [
    {
     "name": "stdout",
     "output_type": "stream",
     "text": [
      "25\n",
      "125\n"
     ]
    }
   ],
   "source": [
    "from maths import sqrt, cube\n",
    "print(sqrt(5))\n",
    "print(cube(5))"
   ]
  },
  {
   "cell_type": "code",
   "execution_count": null,
   "id": "dfd84d41-3117-4e15-8dd1-75a51e1535e7",
   "metadata": {},
   "outputs": [],
   "source": []
  }
 ],
 "metadata": {
  "kernelspec": {
   "display_name": "Python 3 (ipykernel)",
   "language": "python",
   "name": "python3"
  },
  "language_info": {
   "codemirror_mode": {
    "name": "ipython",
    "version": 3
   },
   "file_extension": ".py",
   "mimetype": "text/x-python",
   "name": "python",
   "nbconvert_exporter": "python",
   "pygments_lexer": "ipython3",
   "version": "3.9.7"
  }
 },
 "nbformat": 4,
 "nbformat_minor": 5
}
