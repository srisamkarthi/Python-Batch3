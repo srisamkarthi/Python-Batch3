{
 "cells": [
  {
   "cell_type": "code",
   "execution_count": null,
   "id": "5a12828c-3e2b-471d-ac71-148e576728a4",
   "metadata": {},
   "outputs": [],
   "source": [
    "count =0\n",
    "while count<10:\n",
    "    print('Netzwerk Academy')\n",
    "    count += 1\n",
    "    print(count)\n",
    "else:\n",
    "    print('Loop completed')"
   ]
  },
  {
   "cell_type": "code",
   "execution_count": null,
   "id": "9ed33c04-856e-4848-abfe-fbe0938ffc2a",
   "metadata": {},
   "outputs": [],
   "source": [
    "count =0\n",
    "while count==0: print('Hi')    "
   ]
  },
  {
   "cell_type": "code",
   "execution_count": 9,
   "id": "85e3c009-392b-4c7b-b691-72ec70bd5389",
   "metadata": {},
   "outputs": [
    {
     "name": "stdout",
     "output_type": "stream",
     "text": [
      "1\n",
      "2\n",
      "3\n",
      "4\n",
      "5\n",
      "6\n"
     ]
    }
   ],
   "source": [
    "l=[1,2,3,4,5,6]\n",
    "for i in l:\n",
    "    print(i)"
   ]
  },
  {
   "cell_type": "code",
   "execution_count": 10,
   "id": "b37bb406-d4f5-4614-984b-cc0c2933eb7a",
   "metadata": {},
   "outputs": [
    {
     "name": "stdout",
     "output_type": "stream",
     "text": [
      "a\n",
      "b\n",
      "c\n"
     ]
    }
   ],
   "source": [
    "t=('a','b','c')\n",
    "for i in t:\n",
    "    print(i)"
   ]
  },
  {
   "cell_type": "code",
   "execution_count": 12,
   "id": "ad5e182c-82e2-4b7c-b153-9858385ccd27",
   "metadata": {},
   "outputs": [
    {
     "name": "stdout",
     "output_type": "stream",
     "text": [
      "1 12\n",
      "2 23\n"
     ]
    }
   ],
   "source": [
    "d={}\n",
    "d[1] =12\n",
    "d[2] =23\n",
    "for i in d:\n",
    "    print(\"%s %d\" %(i, d[i]))"
   ]
  },
  {
   "cell_type": "code",
   "execution_count": 14,
   "id": "8dc4934f-c2e3-433d-b09c-047e954eaf98",
   "metadata": {},
   "outputs": [
    {
     "name": "stdout",
     "output_type": "stream",
     "text": [
      "0\n",
      "1\n",
      "2\n",
      "3\n",
      "4\n",
      "5\n",
      "6\n",
      "7\n",
      "8\n",
      "9\n",
      "out for loop\n"
     ]
    }
   ],
   "source": [
    "n=10\n",
    "for i in range(0, n):\n",
    "    print(i)\n",
    "else:\n",
    "    print('out for loop')"
   ]
  },
  {
   "cell_type": "code",
   "execution_count": 16,
   "id": "4545be67-fb13-4fee-8fb9-b544e0c19241",
   "metadata": {},
   "outputs": [
    {
     "name": "stdout",
     "output_type": "stream",
     "text": [
      "0\n",
      "1\n",
      "2\n",
      "3\n",
      "4\n",
      "1\n",
      "2\n",
      "3\n",
      "4\n",
      "2\n",
      "3\n",
      "4\n",
      "3\n",
      "4\n",
      "4\n"
     ]
    }
   ],
   "source": [
    "for i in range(0, 10):\n",
    "    for j in range(i,5):\n",
    "        print(j)"
   ]
  },
  {
   "cell_type": "code",
   "execution_count": 18,
   "id": "c3a7b2da-a5a8-4e84-8b15-ce2190a1370b",
   "metadata": {},
   "outputs": [
    {
     "name": "stdout",
     "output_type": "stream",
     "text": [
      "e\n",
      "t\n",
      "z\n",
      "w\n",
      "e\n",
      "r\n",
      "k\n"
     ]
    }
   ],
   "source": [
    "for i in 'netzwerk':\n",
    "    if(i=='n'):\n",
    "        continue\n",
    "    print(i)"
   ]
  },
  {
   "cell_type": "code",
   "execution_count": 21,
   "id": "89e99691-3db4-4360-a9b0-d39da84d1dbb",
   "metadata": {},
   "outputs": [
    {
     "name": "stdout",
     "output_type": "stream",
     "text": [
      "n\n",
      "e\n",
      "t\n",
      "z\n",
      "w\n",
      "e\n",
      "r\n"
     ]
    }
   ],
   "source": [
    "for i in 'netzwerk':\n",
    "    if(i=='k'):\n",
    "        break\n",
    "    print(i)"
   ]
  },
  {
   "cell_type": "code",
   "execution_count": 22,
   "id": "6d0a2218-65d9-4991-b2ac-1b4d67f87de5",
   "metadata": {},
   "outputs": [
    {
     "name": "stdout",
     "output_type": "stream",
     "text": [
      "n\n",
      "e\n",
      "t\n",
      "z\n",
      "w\n",
      "e\n",
      "r\n",
      "k\n"
     ]
    }
   ],
   "source": [
    "for i in 'netzwerk':\n",
    "    if(i=='k'):\n",
    "        pass\n",
    "    print(i)"
   ]
  },
  {
   "cell_type": "code",
   "execution_count": null,
   "id": "35afd33c-06f8-4be5-ad53-4247f5eecf80",
   "metadata": {},
   "outputs": [],
   "source": []
  }
 ],
 "metadata": {
  "kernelspec": {
   "display_name": "Python 3 (ipykernel)",
   "language": "python",
   "name": "python3"
  },
  "language_info": {
   "codemirror_mode": {
    "name": "ipython",
    "version": 3
   },
   "file_extension": ".py",
   "mimetype": "text/x-python",
   "name": "python",
   "nbconvert_exporter": "python",
   "pygments_lexer": "ipython3",
   "version": "3.9.7"
  }
 },
 "nbformat": 4,
 "nbformat_minor": 5
}
