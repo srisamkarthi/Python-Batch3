{
 "cells": [
  {
   "cell_type": "code",
   "execution_count": null,
   "id": "febb79d4-b97e-41a3-9941-10724b12c848",
   "metadata": {},
   "outputs": [],
   "source": [
    "from maths import *\n",
    "simpleInterest(100, 10, 5)"
   ]
  },
  {
   "cell_type": "code",
   "execution_count": null,
   "id": "b1599d03-62cd-49b9-b56c-fc63324f3299",
   "metadata": {},
   "outputs": [],
   "source": [
    "cube(5)"
   ]
  },
  {
   "cell_type": "code",
   "execution_count": null,
   "id": "f6563704-9b44-4568-be44-349911c27d68",
   "metadata": {},
   "outputs": [],
   "source": [
    "import maths\n",
    "print(dir(maths))"
   ]
  },
  {
   "cell_type": "code",
   "execution_count": 1,
   "id": "7438543f-dacf-4ef5-8a81-7c005d414f8b",
   "metadata": {},
   "outputs": [
    {
     "name": "stdout",
     "output_type": "stream",
     "text": [
      "10\n"
     ]
    }
   ],
   "source": [
    "import random as r\n",
    "print(r.randint(0,10))"
   ]
  },
  {
   "cell_type": "code",
   "execution_count": 3,
   "id": "cee32427-49fa-45ec-84ee-9a384ea29fc3",
   "metadata": {},
   "outputs": [
    {
     "name": "stdout",
     "output_type": "stream",
     "text": [
      "python\n"
     ]
    }
   ],
   "source": [
    "List = [1, 4, True, 800, \"python\", 27, \"hello\"]\n",
    "print(r.choice(List))"
   ]
  },
  {
   "cell_type": "code",
   "execution_count": 4,
   "id": "832bf262-9312-4b13-ab7e-bad2842f9eb9",
   "metadata": {},
   "outputs": [],
   "source": [
    "import datetime\n",
    "from datetime import date\n",
    "import time"
   ]
  },
  {
   "cell_type": "code",
   "execution_count": 6,
   "id": "5f2cd271-01fd-432b-9cbd-bfbbbac31bd3",
   "metadata": {},
   "outputs": [
    {
     "name": "stdout",
     "output_type": "stream",
     "text": [
      "1639141407.9304924\n",
      "1970-01-06\n"
     ]
    }
   ],
   "source": [
    "print(time.time())\n",
    "print(date.fromtimestamp(454554))"
   ]
  },
  {
   "cell_type": "code",
   "execution_count": null,
   "id": "f3dbb5c0-8970-4188-94a8-519b08a8b6d9",
   "metadata": {},
   "outputs": [],
   "source": []
  }
 ],
 "metadata": {
  "kernelspec": {
   "display_name": "Python 3 (ipykernel)",
   "language": "python",
   "name": "python3"
  },
  "language_info": {
   "codemirror_mode": {
    "name": "ipython",
    "version": 3
   },
   "file_extension": ".py",
   "mimetype": "text/x-python",
   "name": "python",
   "nbconvert_exporter": "python",
   "pygments_lexer": "ipython3",
   "version": "3.9.7"
  }
 },
 "nbformat": 4,
 "nbformat_minor": 5
}
