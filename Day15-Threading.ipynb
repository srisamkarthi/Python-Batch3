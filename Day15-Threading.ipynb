{
 "cells": [
  {
   "cell_type": "code",
   "execution_count": 1,
   "id": "39f6d923-34f8-4478-8fcf-3cbda8982bcc",
   "metadata": {},
   "outputs": [
    {
     "name": "stdout",
     "output_type": "stream",
     "text": [
      "Square: 100\n",
      "Cube: 1000\n",
      "Done!\n"
     ]
    }
   ],
   "source": [
    "import threading\n",
    "def print_cube(num):\n",
    "    \"\"\"function to print cube of given num\"\"\"\n",
    "    print(\"Cube: {}\".format(num * num * num))\n",
    "def print_square(num):\n",
    "    \"\"\"function to print square of given num\"\"\"\n",
    "    print(\"Square: {}\".format(num * num))\n",
    "if __name__ == \"__main__\":\n",
    "    # creating thread\n",
    "    t1 = threading.Thread(target=print_square, args=(10,))\n",
    "    t2 = threading.Thread(target=print_cube, args=(10,))\n",
    "    # starting thread 1\n",
    "    t1.start()\n",
    "    # starting thread 2\n",
    "    t2.start()\n",
    "    # wait until thread 1 is completely executed\n",
    "    t1.join()\n",
    "    # wait until thread 2 is completely executed\n",
    "    t2.join()\n",
    "    # both threads completely executed\n",
    "    print(\"Done!\")"
   ]
  },
  {
   "cell_type": "code",
   "execution_count": 2,
   "id": "6d3233f3-04ba-441b-a965-d16b787e576d",
   "metadata": {},
   "outputs": [
    {
     "name": "stdout",
     "output_type": "stream",
     "text": [
      "ID of process running main program: 10792\n",
      "Main thread name: MainThread\n",
      "Task 1 assigned to thread: t1\n",
      "ID of process running task 1: 10792\n",
      "Task 2 assigned to thread: t2\n",
      "ID of process running task 2: 10792\n"
     ]
    }
   ],
   "source": [
    "import threading\n",
    "import os\n",
    "def task1():\n",
    "    print(\"Task 1 assigned to thread: {}\".format(threading.current_thread().name))\n",
    "    print(\"ID of process running task 1: {}\".format(os.getpid()))\n",
    "def task2():\n",
    "    print(\"Task 2 assigned to thread: {}\".format(threading.current_thread().name))\n",
    "    print(\"ID of process running task 2: {}\".format(os.getpid()))\n",
    "if __name__ == \"__main__\":\n",
    "    # print ID of current process\n",
    "    print(\"ID of process running main program: {}\".format(os.getpid()))\n",
    "    # print name of main thread\n",
    "    print(\"Main thread name: {}\".format(threading.current_thread().name))\n",
    "    # creating threads\n",
    "    t1 = threading.Thread(target=task1, name='t1')\n",
    "    t2 = threading.Thread(target=task2, name='t2')\n",
    "    # starting threads\n",
    "    t1.start()\n",
    "    t2.start()\n",
    "    # wait until all threads finish\n",
    "    t1.join()\n",
    "    t2.join()"
   ]
  },
  {
   "cell_type": "code",
   "execution_count": 5,
   "id": "5248b282-7962-4dd1-bc02-e356e0710e38",
   "metadata": {},
   "outputs": [
    {
     "name": "stdout",
     "output_type": "stream",
     "text": [
      "Iteration 0: x = 200000\n",
      "Iteration 1: x = 400000\n",
      "Iteration 2: x = 600000\n",
      "Iteration 3: x = 800000\n",
      "Iteration 4: x = 1000000\n",
      "Iteration 5: x = 1200000\n",
      "Iteration 6: x = 1400000\n",
      "Iteration 7: x = 1600000\n",
      "Iteration 8: x = 1800000\n",
      "Iteration 9: x = 2000000\n"
     ]
    }
   ],
   "source": [
    "import threading\n",
    "# global variable x\n",
    "x = 0\n",
    "def increment():\n",
    "    global x\n",
    "    x += 1\n",
    "def thread_task():\n",
    "    for _ in range(100000):\n",
    "        increment()\n",
    "def main_task():\n",
    "    #global x\n",
    "    x = 0\n",
    "    # creating threads\n",
    "    t1 = threading.Thread(target=thread_task)\n",
    "    t2 = threading.Thread(target=thread_task)\n",
    "    t1.start()\n",
    "    t2.start()\n",
    "    # wait until threads finish their job\n",
    "    t1.join()\n",
    "    t2.join()\n",
    "if __name__ == \"__main__\":\n",
    "    for i in range(10):\n",
    "        main_task()\n",
    "        print(\"Iteration {0}: x = {1}\".format(i,x))"
   ]
  },
  {
   "cell_type": "code",
   "execution_count": 7,
   "id": "49fe3a41-d987-479e-a242-8c0802e35f06",
   "metadata": {},
   "outputs": [
    {
     "name": "stdout",
     "output_type": "stream",
     "text": [
      "Iteration 0: x = 200000\n",
      "Iteration 1: x = 400000\n",
      "Iteration 2: x = 600000\n",
      "Iteration 3: x = 800000\n",
      "Iteration 4: x = 1000000\n",
      "Iteration 5: x = 1200000\n",
      "Iteration 6: x = 1400000\n",
      "Iteration 7: x = 1600000\n",
      "Iteration 8: x = 1800000\n",
      "Iteration 9: x = 2000000\n"
     ]
    }
   ],
   "source": [
    "import threading\n",
    "# global variable x\n",
    "x = 0\n",
    "def increment():\n",
    "    global x\n",
    "    x += 1\n",
    "def thread_task(lock):\n",
    "    for _ in range(100000):\n",
    "        lock.acquire()\n",
    "        increment()\n",
    "        lock.release()\n",
    "def main_task():\n",
    "    #global x\n",
    "    x = 0\n",
    "    lock = threading.Lock()\n",
    "    t1 = threading.Thread(target=thread_task, args=(lock,))\n",
    "    t2 = threading.Thread(target=thread_task, args=(lock,))\n",
    "    # start threads\n",
    "    t1.start()\n",
    "    t2.start()\n",
    "    # wait until threads finish their job\n",
    "    t1.join()\n",
    "    t2.join()\n",
    "if __name__ == \"__main__\":\n",
    "    for i in range(10):\n",
    "        main_task()\n",
    "        print(\"Iteration {0}: x = {1}\".format(i,x))"
   ]
  },
  {
   "cell_type": "code",
   "execution_count": null,
   "id": "2c20d8d1-4336-4a88-88de-33e4475cc946",
   "metadata": {},
   "outputs": [],
   "source": []
  }
 ],
 "metadata": {
  "kernelspec": {
   "display_name": "Python 3 (ipykernel)",
   "language": "python",
   "name": "python3"
  },
  "language_info": {
   "codemirror_mode": {
    "name": "ipython",
    "version": 3
   },
   "file_extension": ".py",
   "mimetype": "text/x-python",
   "name": "python",
   "nbconvert_exporter": "python",
   "pygments_lexer": "ipython3",
   "version": "3.9.7"
  }
 },
 "nbformat": 4,
 "nbformat_minor": 5
}
