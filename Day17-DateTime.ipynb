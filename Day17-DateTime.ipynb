{
 "cells": [
  {
   "cell_type": "code",
   "execution_count": 1,
   "id": "3f911a08-68fa-4840-a291-be4441e0b9ec",
   "metadata": {},
   "outputs": [
    {
     "name": "stdout",
     "output_type": "stream",
     "text": [
      "My DOB  is  1981-12-12\n"
     ]
    }
   ],
   "source": [
    "from datetime import date\n",
    "dt =date(1981, 12,12)\n",
    "print(\"My DOB  is \", dt)"
   ]
  },
  {
   "cell_type": "code",
   "execution_count": 2,
   "id": "2df0e725-958b-4491-b861-5ba66fc0878c",
   "metadata": {},
   "outputs": [
    {
     "name": "stdout",
     "output_type": "stream",
     "text": [
      "2021-12-28\n"
     ]
    }
   ],
   "source": [
    "print(date.today())"
   ]
  },
  {
   "cell_type": "code",
   "execution_count": 6,
   "id": "2cc98d82-8626-4b16-946f-4e4ef6721d70",
   "metadata": {},
   "outputs": [
    {
     "name": "stdout",
     "output_type": "stream",
     "text": [
      "2021\n"
     ]
    }
   ],
   "source": [
    "print(date.today().year)"
   ]
  },
  {
   "cell_type": "code",
   "execution_count": 7,
   "id": "8ce6755e-a1ac-4dd8-95f4-2a92d2bc6cb1",
   "metadata": {},
   "outputs": [
    {
     "name": "stdout",
     "output_type": "stream",
     "text": [
      "Entered time 13:24:56\n",
      "\n",
      "Time with one argument 00:12:00\n",
      "\n",
      "Time without argument 00:00:00\n"
     ]
    }
   ],
   "source": [
    "from datetime import time\n",
    "my_time = time(13, 24, 56)\n",
    "print(\"Entered time\", my_time)\n",
    "my_time = time(minute = 12)\n",
    "print(\"\\nTime with one argument\", my_time)\n",
    "my_time = time()\n",
    "print(\"\\nTime without argument\", my_time)"
   ]
  },
  {
   "cell_type": "code",
   "execution_count": 8,
   "id": "66b9ef56-cdd9-4759-9410-b57dfe44f29b",
   "metadata": {},
   "outputs": [
    {
     "name": "stdout",
     "output_type": "stream",
     "text": [
      "1999-12-12 00:00:00\n",
      "1999-12-12 12:12:12.342380\n"
     ]
    }
   ],
   "source": [
    "from datetime import datetime\n",
    "a = datetime(1999, 12, 12)\n",
    "print(a)\n",
    "a = datetime(1999, 12, 12, 12, 12, 12, 342380)\n",
    "print(a)"
   ]
  },
  {
   "cell_type": "code",
   "execution_count": 9,
   "id": "a2cd94ab-d89f-476a-8a75-50bc6593e8cc",
   "metadata": {},
   "outputs": [
    {
     "name": "stdout",
     "output_type": "stream",
     "text": [
      "Current date and time is 2021-12-28 20:44:16.088064\n"
     ]
    }
   ],
   "source": [
    "from datetime import datetime\n",
    "today = datetime.now()\n",
    "print(\"Current date and time is\", today)"
   ]
  },
  {
   "cell_type": "code",
   "execution_count": 12,
   "id": "db2aea60-dc09-49c9-80a2-62a40a4c3f4a",
   "metadata": {},
   "outputs": [
    {
     "name": "stdout",
     "output_type": "stream",
     "text": [
      "initial_date 2021-12-28 20:47:14.257012\n",
      "future_date_after_2yrs: 2023-12-28 20:47:14.257012\n",
      "future_date_after_2days: 2021-12-30 20:47:14.257012\n"
     ]
    }
   ],
   "source": [
    "from datetime import datetime, timedelta\n",
    "ini_time_for_now = datetime.now()\n",
    "print (\"initial_date\", str(ini_time_for_now))\n",
    "future_date_after_2yrs = ini_time_for_now + timedelta(days = 730)\n",
    "future_date_after_2days = ini_time_for_now + timedelta(days = 2)\n",
    "print('future_date_after_2yrs:', str(future_date_after_2yrs))\n",
    "print('future_date_after_2days:', str(future_date_after_2days))"
   ]
  },
  {
   "cell_type": "code",
   "execution_count": 13,
   "id": "cba16e86-59eb-467e-9a4a-e0f9c625e146",
   "metadata": {},
   "outputs": [
    {
     "name": "stdout",
     "output_type": "stream",
     "text": [
      "3.141592653589793\n"
     ]
    }
   ],
   "source": [
    "import math\n",
    "print(math.pi)"
   ]
  },
  {
   "cell_type": "code",
   "execution_count": 14,
   "id": "337a5099-55c9-45e8-87d2-ef51770fd7be",
   "metadata": {},
   "outputs": [
    {
     "name": "stdout",
     "output_type": "stream",
     "text": [
      "3.141592653589793\n"
     ]
    }
   ],
   "source": [
    "from math import pi\n",
    "print(pi)"
   ]
  },
  {
   "cell_type": "code",
   "execution_count": 16,
   "id": "b6707bbd-1ed2-460c-8d41-134ccdb674fa",
   "metadata": {},
   "outputs": [
    {
     "name": "stdout",
     "output_type": "stream",
     "text": [
      "3.141592653589793\n",
      "720\n"
     ]
    }
   ],
   "source": [
    "from math import *\n",
    "print(pi)\n",
    "print(factorial(6))"
   ]
  },
  {
   "cell_type": "code",
   "execution_count": 26,
   "id": "3fbbadb7-d896-4f72-a288-4d198ad3d00e",
   "metadata": {},
   "outputs": [],
   "source": [
    "from Cars import bmw\n",
    "from Cars import audi\n",
    "from Cars import nissan"
   ]
  },
  {
   "cell_type": "code",
   "execution_count": 31,
   "id": "88bf6a93-0250-49af-9acc-7518458f971c",
   "metadata": {},
   "outputs": [
    {
     "name": "stdout",
     "output_type": "stream",
     "text": [
      "These are the available models for BMW\n",
      "\ti8 \n",
      "\tx1 \n",
      "\tx5 \n",
      "\tx6 \n",
      "These are the available models for Audi\n",
      "\tq7 \n",
      "\ta6 \n",
      "\ta8 \n",
      "\ta3 \n",
      "These are the available models for Nissan\n",
      "\taltima \n",
      "\t370z \n",
      "\tcube \n",
      "\trogue \n"
     ]
    }
   ],
   "source": [
    "ModBMW = bmw.Bmw()\n",
    "ModBMW.outModels()\n",
    "ModAudi = audi.Audi()\n",
    "ModAudi.outModels()\n",
    "ModNissan = nissan.Nissan()\n",
    "ModNissan.outModels()"
   ]
  },
  {
   "cell_type": "code",
   "execution_count": null,
   "id": "795b02ae-a301-48d7-b6db-6d3447a2ec86",
   "metadata": {},
   "outputs": [],
   "source": []
  }
 ],
 "metadata": {
  "kernelspec": {
   "display_name": "Python 3 (ipykernel)",
   "language": "python",
   "name": "python3"
  },
  "language_info": {
   "codemirror_mode": {
    "name": "ipython",
    "version": 3
   },
   "file_extension": ".py",
   "mimetype": "text/x-python",
   "name": "python",
   "nbconvert_exporter": "python",
   "pygments_lexer": "ipython3",
   "version": "3.9.7"
  }
 },
 "nbformat": 4,
 "nbformat_minor": 5
}
