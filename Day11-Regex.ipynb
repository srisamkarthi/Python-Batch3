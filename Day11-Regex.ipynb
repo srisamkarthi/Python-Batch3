{
 "cells": [
  {
   "cell_type": "code",
   "execution_count": 1,
   "id": "a9e49e19-c09e-4563-ae7b-6335c549e460",
   "metadata": {},
   "outputs": [
    {
     "name": "stdout",
     "output_type": "stream",
     "text": [
      "<re.Match object; span=(21, 27), match='portal'>\n",
      "portal\n",
      "Start Index: 21\n",
      "End Index: 27\n"
     ]
    }
   ],
   "source": [
    "import re\n",
    "match = re.search(r'portal', 'Netzwerk: An academy portals for learners this portal allows students to view courses')\n",
    "print(match)\n",
    "print(match.group())\n",
    "print('Start Index:', match.start())\n",
    "print('End Index:', match.end())\n"
   ]
  },
  {
   "cell_type": "code",
   "execution_count": 2,
   "id": "ba9f41ea-fb83-4580-910c-212f075b47c6",
   "metadata": {},
   "outputs": [
    {
     "name": "stdout",
     "output_type": "stream",
     "text": [
      "['learners']\n"
     ]
    }
   ],
   "source": [
    "print(re.findall(r'lear[Nn]ers', 'Netzwerk: An academy portal for learners'))"
   ]
  },
  {
   "cell_type": "code",
   "execution_count": 3,
   "id": "6dde3e0f-87f1-4ba2-98bc-29324d876b18",
   "metadata": {},
   "outputs": [
    {
     "name": "stdout",
     "output_type": "stream",
     "text": [
      "['lear9ers']\n"
     ]
    }
   ],
   "source": [
    "print(re.findall(r'lear[A-Za-z0-9]ers', 'Netzwerk: An academy portal for lear9ers'))"
   ]
  },
  {
   "cell_type": "code",
   "execution_count": 5,
   "id": "b72a36f8-bf76-4d43-9d38-a53c0ebfb59b",
   "metadata": {},
   "outputs": [
    {
     "name": "stdout",
     "output_type": "stream",
     "text": [
      "<re.Match object; span=(0, 1), match='D'>\n",
      "<re.Match object; span=(0, 3), match='Net'>\n"
     ]
    }
   ],
   "source": [
    "print(re.search(r'[^a-z]', 'D'))\n",
    "print(re.search(r'Ne[^z]', 'Netzwerk'))\n"
   ]
  },
  {
   "cell_type": "code",
   "execution_count": 6,
   "id": "d4dc1c40-550c-47b0-aa41-223b3a318647",
   "metadata": {},
   "outputs": [
    {
     "name": "stdout",
     "output_type": "stream",
     "text": [
      "<re.Match object; span=(0, 3), match='Net'>\n"
     ]
    }
   ],
   "source": [
    "print(re.search(r'Net\\b', 'Net werk'))"
   ]
  },
  {
   "cell_type": "code",
   "execution_count": 7,
   "id": "3f140f24-bd70-466a-bfdd-84a8c9d06617",
   "metadata": {},
   "outputs": [
    {
     "name": "stdout",
     "output_type": "stream",
     "text": [
      "Beg. of String: None\n",
      "Beg. of String: <re.Match object; span=(0, 7), match='Student'>\n",
      "End of String: <re.Match object; span=(33, 40), match='Student'>\n"
     ]
    }
   ],
   "source": [
    "match = re.search(r'^Student', 'Campus Student of the month')\n",
    "print('Beg. of String:', match)\n",
    "match = re.search(r'^Student', 'Student of the month')\n",
    "print('Beg. of String:', match)\n",
    "# End of String\n",
    "match = re.search(r'Student$', 'Compute science portal-StudentforStudent')\n",
    "print('End of String:', match)\n"
   ]
  },
  {
   "cell_type": "code",
   "execution_count": 9,
   "id": "6f896b8a-64ba-4755-90c1-ccd627f8f13c",
   "metadata": {},
   "outputs": [
    {
     "name": "stdout",
     "output_type": "stream",
     "text": [
      "Any Character <re.Match object; span=(0, 6), match='python'>\n"
     ]
    }
   ],
   "source": [
    "print('Any Character', re.search(r'p.th.n', 'python 3'))"
   ]
  },
  {
   "cell_type": "code",
   "execution_count": 10,
   "id": "298b8b09-42a8-4d6d-9580-b0baf87b4dc6",
   "metadata": {},
   "outputs": [
    {
     "name": "stdout",
     "output_type": "stream",
     "text": [
      "Color <re.Match object; span=(0, 5), match='color'>\n",
      "Colour <re.Match object; span=(0, 6), match='colour'>\n"
     ]
    }
   ],
   "source": [
    "print('Color',re.search(r'colou?r', 'color'))\n",
    "print('Colour',re.search(r'colou?r', 'colour'))"
   ]
  },
  {
   "cell_type": "code",
   "execution_count": null,
   "id": "8903b9c6-14a9-401e-9fd5-7d37e8d82e4d",
   "metadata": {},
   "outputs": [],
   "source": []
  }
 ],
 "metadata": {
  "kernelspec": {
   "display_name": "Python 3 (ipykernel)",
   "language": "python",
   "name": "python3"
  },
  "language_info": {
   "codemirror_mode": {
    "name": "ipython",
    "version": 3
   },
   "file_extension": ".py",
   "mimetype": "text/x-python",
   "name": "python",
   "nbconvert_exporter": "python",
   "pygments_lexer": "ipython3",
   "version": "3.9.7"
  }
 },
 "nbformat": 4,
 "nbformat_minor": 5
}
