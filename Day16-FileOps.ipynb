{
 "cells": [
  {
   "cell_type": "code",
   "execution_count": 27,
   "id": "6c79b989-8e62-42fa-a7fe-78eb684f9138",
   "metadata": {},
   "outputs": [
    {
     "name": "stdout",
     "output_type": "stream",
     "text": [
      "<_io.TextIOWrapper name='MyFile.txt' mode='r+' encoding='cp1252'>\n"
     ]
    }
   ],
   "source": [
    "# Open function to open the file \"MyFile1.txt\" \n",
    "# (same directory) in append mode and\n",
    "file1 = open(\"MyFile.txt\",\"r+\")\n",
    "print(file1)"
   ]
  },
  {
   "cell_type": "code",
   "execution_count": 17,
   "id": "59b15ff5-6d0c-4417-99df-e486e2832d21",
   "metadata": {},
   "outputs": [
    {
     "data": {
      "text/plain": [
       "48"
      ]
     },
     "execution_count": 17,
     "metadata": {},
     "output_type": "execute_result"
    }
   ],
   "source": [
    "file1.write(\"This is advanced python class overridden example\")"
   ]
  },
  {
   "cell_type": "code",
   "execution_count": 18,
   "id": "296aef61-6c1d-4501-8682-18483ab0d42e",
   "metadata": {},
   "outputs": [],
   "source": [
    "lst = ['Mango \\n', 'apple\\n', 'grapes \\n']\n",
    "file1.writelines(lst)"
   ]
  },
  {
   "cell_type": "code",
   "execution_count": 28,
   "id": "cc349b97-654e-436a-bc30-c952dda4af55",
   "metadata": {},
   "outputs": [
    {
     "name": "stdout",
     "output_type": "stream",
     "text": [
      "This is advanced python class overridden exampleThis is advanced python class overridden exampleMangoapplegrapesThis is advanced python class overridden exampleMango \n",
      "apple\n",
      "grapes \n",
      "\n",
      "['This is advanced python class overridden exampleThis is advanced python class overridden exampleMangoapplegrapesThis is advanced python class overridden exampleMango \\n', 'apple\\n', 'grapes \\n']\n"
     ]
    }
   ],
   "source": [
    "print(file1.read())\n",
    "file1.seek(0)\n",
    "print(file1.readlines())"
   ]
  },
  {
   "cell_type": "code",
   "execution_count": null,
   "id": "d809130d-7865-4b54-a410-dcbe1b620b1e",
   "metadata": {},
   "outputs": [],
   "source": [
    "file1.close()"
   ]
  }
 ],
 "metadata": {
  "kernelspec": {
   "display_name": "Python 3 (ipykernel)",
   "language": "python",
   "name": "python3"
  },
  "language_info": {
   "codemirror_mode": {
    "name": "ipython",
    "version": 3
   },
   "file_extension": ".py",
   "mimetype": "text/x-python",
   "name": "python",
   "nbconvert_exporter": "python",
   "pygments_lexer": "ipython3",
   "version": "3.9.7"
  }
 },
 "nbformat": 4,
 "nbformat_minor": 5
}
