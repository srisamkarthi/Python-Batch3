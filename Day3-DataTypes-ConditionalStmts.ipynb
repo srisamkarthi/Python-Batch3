{
 "cells": [
  {
   "cell_type": "code",
   "execution_count": 1,
   "id": "be8f4a3a-6be2-4027-8f83-de695a4b4566",
   "metadata": {},
   "outputs": [
    {
     "name": "stdout",
     "output_type": "stream",
     "text": [
      "<class 'dict'>\n"
     ]
    }
   ],
   "source": [
    "d={}\n",
    "print(type(d))"
   ]
  },
  {
   "cell_type": "code",
   "execution_count": 3,
   "id": "deed20d2-ab65-4bb9-be9a-cc0da407eddf",
   "metadata": {},
   "outputs": [
    {
     "name": "stdout",
     "output_type": "stream",
     "text": [
      "{1: 'A', 2: 'B'}\n"
     ]
    }
   ],
   "source": [
    "d={1:\"A\",2:\"B\"}\n",
    "print(d)"
   ]
  },
  {
   "cell_type": "code",
   "execution_count": 4,
   "id": "2b799334-e4eb-4eca-b042-e01fd0aa2b70",
   "metadata": {},
   "outputs": [
    {
     "name": "stdout",
     "output_type": "stream",
     "text": [
      "{'L1': ['a', 'b', 'c'], 'L2': ['d', 'e', 'f']}\n"
     ]
    }
   ],
   "source": [
    "d={\"L1\":['a','b','c'], \"L2\":['d','e','f']}\n",
    "print(d)"
   ]
  },
  {
   "cell_type": "code",
   "execution_count": 5,
   "id": "95b8ed34-4288-46b7-9bfd-ba9b37aff134",
   "metadata": {},
   "outputs": [
    {
     "name": "stdout",
     "output_type": "stream",
     "text": [
      "e\n"
     ]
    }
   ],
   "source": [
    "print(d['L2'][1])"
   ]
  },
  {
   "cell_type": "code",
   "execution_count": 6,
   "id": "7197ae23-35d0-41a5-9295-79c45ef1bb7f",
   "metadata": {},
   "outputs": [
    {
     "name": "stdout",
     "output_type": "stream",
     "text": [
      "['d', 'e', 'f']\n"
     ]
    }
   ],
   "source": [
    "print(d.get('L2'))"
   ]
  },
  {
   "cell_type": "code",
   "execution_count": 9,
   "id": "ce95c3a0-e011-478d-a308-05c9e3813026",
   "metadata": {},
   "outputs": [
    {
     "name": "stdout",
     "output_type": "stream",
     "text": [
      "else case\n"
     ]
    }
   ],
   "source": [
    "i=10\n",
    "if(i>10):\n",
    "    print(\"Hi\")\n",
    "else:\n",
    "    print(\"else case\")"
   ]
  },
  {
   "cell_type": "code",
   "execution_count": 10,
   "id": "b85203a8-f543-4d10-bbbc-048d2f0d8eda",
   "metadata": {},
   "outputs": [
    {
     "name": "stdout",
     "output_type": "stream",
     "text": [
      "even\n"
     ]
    }
   ],
   "source": [
    "i=12\n",
    "if(i>10):\n",
    "    if(i%2 == 0):\n",
    "        print('even')\n",
    "    else:\n",
    "        print('odd')\n",
    "else:\n",
    "    print(\"i<=10\")\n"
   ]
  },
  {
   "cell_type": "code",
   "execution_count": 12,
   "id": "ed61dc7b-1158-4568-afaf-8b0c0df23be0",
   "metadata": {},
   "outputs": [
    {
     "name": "stdout",
     "output_type": "stream",
     "text": [
      "negative\n"
     ]
    }
   ],
   "source": [
    "i=9\n",
    "if(i>10):\n",
    "    print('more than 10')\n",
    "elif(i==10):\n",
    "    print('equal than 10')\n",
    "elif(i==0):\n",
    "    print('equal to zero')\n",
    "else:\n",
    "    print('negative')"
   ]
  },
  {
   "cell_type": "code",
   "execution_count": 28,
   "id": "c559314e-8fbb-47f1-92f9-079265350fc8",
   "metadata": {},
   "outputs": [
    {
     "name": "stdout",
     "output_type": "stream",
     "text": [
      "zero\n"
     ]
    }
   ],
   "source": [
    "if(i==0):print(\"zero\")"
   ]
  },
  {
   "cell_type": "code",
   "execution_count": 13,
   "id": "65c43f88-1b23-4616-b6ac-04191ac20c22",
   "metadata": {},
   "outputs": [
    {
     "name": "stdout",
     "output_type": "stream",
     "text": [
      "hi\n"
     ]
    }
   ],
   "source": [
    "print(\"hi\") if i<10 else print(\"Hey\")"
   ]
  },
  {
   "cell_type": "code",
   "execution_count": null,
   "id": "b8d4bd61-67c5-45ae-b74c-0b9f49e02d1f",
   "metadata": {},
   "outputs": [],
   "source": []
  }
 ],
 "metadata": {
  "kernelspec": {
   "display_name": "Python 3 (ipykernel)",
   "language": "python",
   "name": "python3"
  },
  "language_info": {
   "codemirror_mode": {
    "name": "ipython",
    "version": 3
   },
   "file_extension": ".py",
   "mimetype": "text/x-python",
   "name": "python",
   "nbconvert_exporter": "python",
   "pygments_lexer": "ipython3",
   "version": "3.9.7"
  }
 },
 "nbformat": 4,
 "nbformat_minor": 5
}
