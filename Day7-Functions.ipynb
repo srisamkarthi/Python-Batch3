{
 "cells": [
  {
   "cell_type": "code",
   "execution_count": 5,
   "id": "ecd8e575-8dfc-4002-859f-2510bda6999b",
   "metadata": {},
   "outputs": [],
   "source": [
    "from maths import divide"
   ]
  },
  {
   "cell_type": "code",
   "execution_count": 7,
   "id": "83d937ec-f2ae-478b-bd54-59094e02f7cc",
   "metadata": {},
   "outputs": [
    {
     "name": "stdout",
     "output_type": "stream",
     "text": [
      "11.0\n"
     ]
    }
   ],
   "source": [
    "print(divide(5,55))"
   ]
  },
  {
   "cell_type": "code",
   "execution_count": 8,
   "id": "48fe8da5-b601-41de-8ff7-94ed735fd37a",
   "metadata": {},
   "outputs": [],
   "source": [
    "def ConvertToRupee(dollars, exchangeRate=72):\n",
    "    return dollars * exchangeRate"
   ]
  },
  {
   "cell_type": "code",
   "execution_count": 9,
   "id": "e5719349-84e6-492b-a844-d79c706434c4",
   "metadata": {},
   "outputs": [
    {
     "name": "stdout",
     "output_type": "stream",
     "text": [
      "3600\n"
     ]
    }
   ],
   "source": [
    "print(ConvertToRupee(50))"
   ]
  },
  {
   "cell_type": "code",
   "execution_count": 10,
   "id": "d93f7a9e-d62b-4fc7-9001-980fa622df9e",
   "metadata": {},
   "outputs": [
    {
     "name": "stdout",
     "output_type": "stream",
     "text": [
      "3750\n"
     ]
    }
   ],
   "source": [
    "print(ConvertToRupee(50,75))"
   ]
  },
  {
   "cell_type": "code",
   "execution_count": 11,
   "id": "51998aeb-e4c9-42e2-974f-dde3205b2bf6",
   "metadata": {},
   "outputs": [],
   "source": [
    "def areaOfRectangle(length, breadth):\n",
    "    return length * breadth"
   ]
  },
  {
   "cell_type": "code",
   "execution_count": 12,
   "id": "3cf54052-abf8-42dd-a6f9-08fed6d5f362",
   "metadata": {},
   "outputs": [
    {
     "name": "stdout",
     "output_type": "stream",
     "text": [
      "200\n"
     ]
    }
   ],
   "source": [
    "print(areaOfRectangle(length=20, breadth=10))"
   ]
  },
  {
   "cell_type": "code",
   "execution_count": 13,
   "id": "dd6cec3d-5be9-4845-9739-ad6fab81a5ff",
   "metadata": {},
   "outputs": [
    {
     "name": "stdout",
     "output_type": "stream",
     "text": [
      "200\n"
     ]
    }
   ],
   "source": [
    "print(areaOfRectangle(breadth=10,length=20))"
   ]
  },
  {
   "cell_type": "code",
   "execution_count": 14,
   "id": "152e8d61-6d25-4cac-a31d-4dbb9526f275",
   "metadata": {},
   "outputs": [
    {
     "name": "stdout",
     "output_type": "stream",
     "text": [
      "200\n"
     ]
    }
   ],
   "source": [
    "print(areaOfRectangle(10,20))"
   ]
  },
  {
   "cell_type": "code",
   "execution_count": 15,
   "id": "c5c2c6e0-8620-4646-a23c-7b5d575d6a7c",
   "metadata": {},
   "outputs": [],
   "source": [
    "def sentence(*args):\n",
    "    for arg in args:\n",
    "        print(arg)        "
   ]
  },
  {
   "cell_type": "code",
   "execution_count": 38,
   "id": "2cb7d394-f45a-4f9c-8710-8f5bb25f48d4",
   "metadata": {},
   "outputs": [
    {
     "name": "stdout",
     "output_type": "stream",
     "text": [
      "Hi\n",
      "Hello\n",
      "Hey\n",
      "Thanks\n",
      "hi\n"
     ]
    }
   ],
   "source": [
    "sentence('Hi','Hello','Hey', 'Thanks','hi')"
   ]
  },
  {
   "cell_type": "code",
   "execution_count": 39,
   "id": "b9b5b878-d654-4552-ad4f-b3905d3d1c30",
   "metadata": {},
   "outputs": [],
   "source": [
    "def kwsentence(**kwargs):\n",
    "    \"\"\"Function to check varaible length keyword arguements\"\"\"\n",
    "    for param, value in kwargs.items():\n",
    "        print('%s  %s' %(param, value)) "
   ]
  },
  {
   "cell_type": "code",
   "execution_count": 27,
   "id": "38863f8f-4b1a-4636-9043-feedeb3c5598",
   "metadata": {},
   "outputs": [
    {
     "name": "stdout",
     "output_type": "stream",
     "text": [
      "firstname  sri\n",
      "secondname  ss\n",
      "thirdname  abc\n"
     ]
    }
   ],
   "source": [
    "kwsentence(firstname='sri', secondname='ss', thirdname='abc')"
   ]
  },
  {
   "cell_type": "code",
   "execution_count": 29,
   "id": "34d60a71-af24-4a14-91ff-cb23681703f3",
   "metadata": {},
   "outputs": [
    {
     "name": "stdout",
     "output_type": "stream",
     "text": [
      "Function to check varaible length keyword arguements\n"
     ]
    }
   ],
   "source": [
    "print(kwsentence.__doc__)"
   ]
  },
  {
   "cell_type": "code",
   "execution_count": 34,
   "id": "ea35849f-c303-4c02-88fc-db48ecedfd03",
   "metadata": {},
   "outputs": [],
   "source": [
    "pi = lambda x: ConvertToRupee(x)"
   ]
  },
  {
   "cell_type": "code",
   "execution_count": 35,
   "id": "9ca85181-7617-45c3-a954-6cd1e62c9b0f",
   "metadata": {},
   "outputs": [
    {
     "name": "stdout",
     "output_type": "stream",
     "text": [
      "4320\n"
     ]
    }
   ],
   "source": [
    "print(pi(60))"
   ]
  },
  {
   "cell_type": "code",
   "execution_count": 36,
   "id": "a546919f-85cb-4d5a-ab01-feda08a9502a",
   "metadata": {},
   "outputs": [],
   "source": [
    "def name():\n",
    "    s ='netzwerk academy'\n",
    "    def fullname():\n",
    "        print(s)\n",
    "    fullname()    "
   ]
  },
  {
   "cell_type": "code",
   "execution_count": 37,
   "id": "aa8f1ad0-8a92-4873-81ba-bd1f64c4c396",
   "metadata": {},
   "outputs": [
    {
     "name": "stdout",
     "output_type": "stream",
     "text": [
      "netzwerk academy\n",
      "None\n"
     ]
    }
   ],
   "source": [
    "print(name())"
   ]
  },
  {
   "cell_type": "code",
   "execution_count": 40,
   "id": "b96ba98a-1589-4365-9aac-b901bbf41fa1",
   "metadata": {},
   "outputs": [
    {
     "name": "stdout",
     "output_type": "stream",
     "text": [
      "netzwerk academy\n"
     ]
    }
   ],
   "source": [
    "name()"
   ]
  },
  {
   "cell_type": "code",
   "execution_count": null,
   "id": "b2a9f426-1b62-403a-ad63-d2575fc1e448",
   "metadata": {},
   "outputs": [],
   "source": [
    "\n",
    "def reverselist(*lstvals):\n",
    "    l=[]\n",
    "    for val in lstvals:\n",
    "        l[len(lstvals) -1] = val \n"
   ]
  }
 ],
 "metadata": {
  "kernelspec": {
   "display_name": "Python 3 (ipykernel)",
   "language": "python",
   "name": "python3"
  },
  "language_info": {
   "codemirror_mode": {
    "name": "ipython",
    "version": 3
   },
   "file_extension": ".py",
   "mimetype": "text/x-python",
   "name": "python",
   "nbconvert_exporter": "python",
   "pygments_lexer": "ipython3",
   "version": "3.9.7"
  }
 },
 "nbformat": 4,
 "nbformat_minor": 5
}
