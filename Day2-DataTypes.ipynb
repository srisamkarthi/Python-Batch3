{
 "cells": [
  {
   "cell_type": "code",
   "execution_count": 9,
   "id": "831cb8e8-7d42-4159-9c9b-6b52eadb8018",
   "metadata": {},
   "outputs": [
    {
     "name": "stdout",
     "output_type": "stream",
     "text": [
      "['apple', 'grapes', 'banana']\n"
     ]
    }
   ],
   "source": [
    "fruits=['apple', 'grapes', 'banana']\n",
    "print(fruits)"
   ]
  },
  {
   "cell_type": "code",
   "execution_count": 10,
   "id": "176fa2ad-bc38-4030-b110-08ebabb78f46",
   "metadata": {},
   "outputs": [
    {
     "name": "stdout",
     "output_type": "stream",
     "text": [
      "['Tomato', 'Brinjal', 'Drumstick']\n"
     ]
    }
   ],
   "source": [
    "vegies=['Tomato','Brinjal','Drumstick']\n",
    "print(vegies)"
   ]
  },
  {
   "cell_type": "code",
   "execution_count": 11,
   "id": "6688c8ec-8ac2-43b1-ae9d-035828fa9eaf",
   "metadata": {},
   "outputs": [
    {
     "name": "stdout",
     "output_type": "stream",
     "text": [
      "[['Tomato', 'Brinjal', 'Drumstick'], ['apple', 'grapes', 'banana']]\n"
     ]
    }
   ],
   "source": [
    "fv=[vegies, fruits]\n",
    "print(fv)"
   ]
  },
  {
   "cell_type": "code",
   "execution_count": 12,
   "id": "92503c7b-414a-43a4-8dd9-6c26d0e270c5",
   "metadata": {},
   "outputs": [
    {
     "name": "stdout",
     "output_type": "stream",
     "text": [
      "apple\n"
     ]
    }
   ],
   "source": [
    "print(fruits[-3])"
   ]
  },
  {
   "cell_type": "code",
   "execution_count": 13,
   "id": "3f124bee-c928-4bc5-984f-fa8e3a1cb6e4",
   "metadata": {},
   "outputs": [
    {
     "name": "stdout",
     "output_type": "stream",
     "text": [
      "['Tomato', 'Brinjal', 'Drumstick']\n"
     ]
    }
   ],
   "source": [
    "print(fv[0])"
   ]
  },
  {
   "cell_type": "code",
   "execution_count": 14,
   "id": "14691a12-f768-4d4b-bbe9-86eeb0e785ba",
   "metadata": {},
   "outputs": [
    {
     "name": "stdout",
     "output_type": "stream",
     "text": [
      "Tomato\n"
     ]
    }
   ],
   "source": [
    "print(fv[0][0])"
   ]
  },
  {
   "cell_type": "code",
   "execution_count": 15,
   "id": "1e45c2bc-7d2a-43e7-8f09-200b0f202e31",
   "metadata": {},
   "outputs": [],
   "source": [
    "lst =[1, 'karthikeya', 3, 'Sri', '0']"
   ]
  },
  {
   "cell_type": "code",
   "execution_count": 16,
   "id": "3363dad0-d55a-4c0b-b354-ca6369aed1a6",
   "metadata": {},
   "outputs": [
    {
     "name": "stdout",
     "output_type": "stream",
     "text": [
      "0\n"
     ]
    }
   ],
   "source": [
    "print(lst[4])"
   ]
  },
  {
   "cell_type": "code",
   "execution_count": 17,
   "id": "c0eced30-f7d3-476a-97e5-52bc4cea30c5",
   "metadata": {},
   "outputs": [
    {
     "name": "stdout",
     "output_type": "stream",
     "text": [
      "()\n"
     ]
    }
   ],
   "source": [
    "t=()\n",
    "print(t)"
   ]
  },
  {
   "cell_type": "code",
   "execution_count": 27,
   "id": "1e8c29ed-428e-4fe2-b633-7e748e40b4c3",
   "metadata": {},
   "outputs": [
    {
     "name": "stdout",
     "output_type": "stream",
     "text": [
      "4\n"
     ]
    }
   ],
   "source": [
    "t=(1,2,2,4)\n",
    "print(t[-1])"
   ]
  },
  {
   "cell_type": "code",
   "execution_count": 28,
   "id": "f0def1e3-2a31-4c48-9eb2-e8b9a8658e30",
   "metadata": {},
   "outputs": [],
   "source": [
    "t1=(lst, vegies,t)"
   ]
  },
  {
   "cell_type": "code",
   "execution_count": 29,
   "id": "75ad21a0-4498-4daa-8f9b-18cbe456b32b",
   "metadata": {},
   "outputs": [
    {
     "name": "stdout",
     "output_type": "stream",
     "text": [
      "(1, 2, 2, 4)\n"
     ]
    }
   ],
   "source": [
    "print(t1[2])"
   ]
  },
  {
   "cell_type": "code",
   "execution_count": 30,
   "id": "b914d527-ea60-48b9-9491-0e0a185fdc8b",
   "metadata": {},
   "outputs": [
    {
     "name": "stdout",
     "output_type": "stream",
     "text": [
      "<class 'bool'>\n"
     ]
    }
   ],
   "source": [
    "print(type(True))"
   ]
  },
  {
   "cell_type": "code",
   "execution_count": 31,
   "id": "1ab2c0e5-aad0-4f50-97e9-a76dae587acd",
   "metadata": {},
   "outputs": [
    {
     "name": "stdout",
     "output_type": "stream",
     "text": [
      "<class 'bool'>\n"
     ]
    }
   ],
   "source": [
    "print(type(False))"
   ]
  },
  {
   "cell_type": "code",
   "execution_count": 32,
   "id": "6959bcab-87e4-4dbf-8918-fbde1b7b06e5",
   "metadata": {},
   "outputs": [
    {
     "name": "stdout",
     "output_type": "stream",
     "text": [
      "set()\n"
     ]
    }
   ],
   "source": [
    "s=set()\n",
    "print(s)"
   ]
  },
  {
   "cell_type": "code",
   "execution_count": 33,
   "id": "771ad365-f135-4d9c-b32b-b07e1ee3a005",
   "metadata": {},
   "outputs": [
    {
     "name": "stdout",
     "output_type": "stream",
     "text": [
      "{'n', 'a', 'w', 'c', 'z', 'd', 'y', 'e', 'm', 'r', 'k', 't'}\n"
     ]
    }
   ],
   "source": [
    "s=set('netzwerkacademy')\n",
    "print(s)"
   ]
  },
  {
   "cell_type": "code",
   "execution_count": 34,
   "id": "1d08432e-b4c0-4f64-95b1-0372776030d6",
   "metadata": {},
   "outputs": [
    {
     "ename": "TypeError",
     "evalue": "'set' object is not subscriptable",
     "output_type": "error",
     "traceback": [
      "\u001b[1;31m---------------------------------------------------------------------------\u001b[0m",
      "\u001b[1;31mTypeError\u001b[0m                                 Traceback (most recent call last)",
      "\u001b[1;32m~\\AppData\\Local\\Temp/ipykernel_22900/819424605.py\u001b[0m in \u001b[0;36m<module>\u001b[1;34m\u001b[0m\n\u001b[1;32m----> 1\u001b[1;33m \u001b[0mprint\u001b[0m\u001b[1;33m(\u001b[0m\u001b[0ms\u001b[0m\u001b[1;33m[\u001b[0m\u001b[1;36m1\u001b[0m\u001b[1;33m]\u001b[0m\u001b[1;33m)\u001b[0m\u001b[1;33m\u001b[0m\u001b[1;33m\u001b[0m\u001b[0m\n\u001b[0m",
      "\u001b[1;31mTypeError\u001b[0m: 'set' object is not subscriptable"
     ]
    }
   ],
   "source": [
    "print(s[1])"
   ]
  },
  {
   "cell_type": "code",
   "execution_count": 35,
   "id": "1514bb9e-936d-4c0f-9a5c-d6f2ef18eaaf",
   "metadata": {},
   "outputs": [
    {
     "name": "stdout",
     "output_type": "stream",
     "text": [
      "nawczdyemrkt"
     ]
    }
   ],
   "source": [
    "for i in s:\n",
    "    print(i, end='')"
   ]
  },
  {
   "cell_type": "code",
   "execution_count": null,
   "id": "e8612b48-bdcc-4f6b-814f-fceb18b1b898",
   "metadata": {},
   "outputs": [],
   "source": []
  }
 ],
 "metadata": {
  "kernelspec": {
   "display_name": "Python 3 (ipykernel)",
   "language": "python",
   "name": "python3"
  },
  "language_info": {
   "codemirror_mode": {
    "name": "ipython",
    "version": 3
   },
   "file_extension": ".py",
   "mimetype": "text/x-python",
   "name": "python",
   "nbconvert_exporter": "python",
   "pygments_lexer": "ipython3",
   "version": "3.9.7"
  }
 },
 "nbformat": 4,
 "nbformat_minor": 5
}
